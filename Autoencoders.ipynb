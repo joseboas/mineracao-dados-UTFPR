{
 "cells": [
  {
   "cell_type": "code",
   "execution_count": 1,
   "id": "86a9cb72",
   "metadata": {},
   "outputs": [],
   "source": [
    "# Importanfo as bibliotecas\n",
    "from sklearn.datasets import make_classification\n",
    "from sklearn.preprocessing import MinMaxScaler\n",
    "from sklearn.model_selection import train_test_split\n",
    "from tensorflow.keras.models import Model\n",
    "from tensorflow.keras.layers import Input\n",
    "from tensorflow.keras.layers import Dense\n",
    "from tensorflow.keras.layers import LeakyReLU\n",
    "from tensorflow.keras.layers import BatchNormalization\n",
    "from tensorflow.keras.utils import plot_model\n",
    "from matplotlib import pyplot"
   ]
  },
  {
   "cell_type": "code",
   "execution_count": 2,
   "id": "57dbc051",
   "metadata": {},
   "outputs": [
    {
     "name": "stdout",
     "output_type": "stream",
     "text": [
      "(1000, 100) (1000,)\n"
     ]
    }
   ],
   "source": [
    "#Definindo o dataset\n",
    "X, y = make_classification(n_samples=1000, n_features=100, n_informative=10, n_redundant=90, random_state=1)\n",
    "print(X.shape, y.shape)"
   ]
  },
  {
   "cell_type": "code",
   "execution_count": 3,
   "id": "1058a842",
   "metadata": {},
   "outputs": [],
   "source": [
    "#Dividindo em treinamento e teste\n",
    "X_train, X_test, y_train, y_test = train_test_split(X, y, test_size=0.33, random_state=1)\n",
    "# Aplicando a normalização min-max\n",
    "t = MinMaxScaler()\n",
    "t.fit(X_train)\n",
    "X_train = t.transform(X_train)\n",
    "X_test = t.transform(X_test)"
   ]
  },
  {
   "cell_type": "code",
   "execution_count": 4,
   "id": "ebb25b21",
   "metadata": {},
   "outputs": [
    {
     "name": "stdout",
     "output_type": "stream",
     "text": [
      "(670, 100) (330, 100)\n"
     ]
    }
   ],
   "source": [
    "print(X_train.shape,X_test.shape)"
   ]
  },
  {
   "cell_type": "code",
   "execution_count": 92,
   "id": "b1be366c",
   "metadata": {},
   "outputs": [],
   "source": [
    "#Pegando os números de input\n",
    "n_inputs = X.shape[1]\n",
    "#definindo o encoder\n",
    "visible = Input(shape=(n_inputs,))"
   ]
  },
  {
   "cell_type": "code",
   "execution_count": 93,
   "id": "22fee96d",
   "metadata": {},
   "outputs": [],
   "source": [
    "#Encoder nível 1. Definindo a primeira camada oculta\n",
    "e = Dense(n_inputs*2)(visible)\n",
    "#Usando a nomalização em lote para garantir que o modelo aprenda bem\n",
    "e = BatchNormalization()(e)\n",
    "#Definindo a função de ativação Relu\n",
    "e = LeakyReLU()(e)"
   ]
  },
  {
   "cell_type": "code",
   "execution_count": 94,
   "id": "2fa8f772",
   "metadata": {},
   "outputs": [],
   "source": [
    "# Encoder nível 2. Definindo a segunda camada oculta\n",
    "e = Dense(n_inputs)(visible)\n",
    "#Usando a nomalização em lote para garantir que o modelo aprenda bem\n",
    "e = BatchNormalization()(e)\n",
    "#Definindo a função de ativação Relu\n",
    "e = LeakyReLU()(e)"
   ]
  },
  {
   "cell_type": "code",
   "execution_count": 95,
   "id": "efd145df",
   "metadata": {},
   "outputs": [],
   "source": [
    "#Camada de redução. aqui que acontece a redução\n",
    "n_bottleneck = round(float(n_inputs) / 2.0)\n",
    "bottleneck = Dense(n_bottleneck)(e)"
   ]
  },
  {
   "cell_type": "code",
   "execution_count": 96,
   "id": "4216caf6",
   "metadata": {},
   "outputs": [],
   "source": [
    "#Definindo o decoder, level 1\n",
    "d = Dense(n_inputs)(bottleneck)\n",
    "d = BatchNormalization()(d)\n",
    "d = LeakyReLU()(d)"
   ]
  },
  {
   "cell_type": "code",
   "execution_count": 97,
   "id": "fe91ece9",
   "metadata": {},
   "outputs": [],
   "source": [
    "#Definindo o decoder nível 2\n",
    "d = Dense(n_inputs*2)(d)\n",
    "d = BatchNormalization()(d)\n",
    "d = LeakyReLU()(d)"
   ]
  },
  {
   "cell_type": "code",
   "execution_count": 98,
   "id": "0ade145b",
   "metadata": {},
   "outputs": [],
   "source": [
    "#Camada de saída usando a função de ativação\n",
    "#É a função mais básica porque não altera a saída de um neurônio\n",
    "output = Dense(n_inputs, activation='linear')(d)"
   ]
  },
  {
   "cell_type": "code",
   "execution_count": 99,
   "id": "af60165e",
   "metadata": {},
   "outputs": [],
   "source": [
    "#definindo o modelo de autoencoder model\n",
    "model = Model(inputs=visible, outputs=output)"
   ]
  },
  {
   "cell_type": "code",
   "execution_count": 100,
   "id": "e05ff2bf",
   "metadata": {},
   "outputs": [],
   "source": [
    "#Compilando o modelo autoencoder\n",
    "#adam =  função com base no método de descida gradiente estocástico. Tende a convergir rapidamente.\n",
    "#binary_crossentropy  = um função utilizada para problemas de classificação binária (0 ou 1)\n",
    "# mse = calcula a média dos quadrados dos erros entre rótulos e previsões\n",
    "model.compile(optimizer='adam', loss='binary_crossentropy')\n",
    "#model.compile(optimizer='adam', loss='mse')"
   ]
  },
  {
   "cell_type": "code",
   "execution_count": 101,
   "id": "262668e9",
   "metadata": {},
   "outputs": [
    {
     "name": "stdout",
     "output_type": "stream",
     "text": [
      "Epoch 1/200\n",
      "42/42 - 2s - loss: 4.6678 - val_loss: 3.4298\n",
      "Epoch 2/200\n",
      "42/42 - 0s - loss: 3.8389 - val_loss: 2.8597\n",
      "Epoch 3/200\n",
      "42/42 - 0s - loss: 3.6029 - val_loss: 2.2791\n",
      "Epoch 4/200\n",
      "42/42 - 0s - loss: 3.2925 - val_loss: 1.8988\n",
      "Epoch 5/200\n",
      "42/42 - 0s - loss: 3.0694 - val_loss: 1.9541\n",
      "Epoch 6/200\n",
      "42/42 - 0s - loss: 3.0430 - val_loss: 1.9511\n",
      "Epoch 7/200\n",
      "42/42 - 0s - loss: 2.9203 - val_loss: 1.9747\n",
      "Epoch 8/200\n",
      "42/42 - 0s - loss: 2.8220 - val_loss: 2.1027\n",
      "Epoch 9/200\n",
      "42/42 - 0s - loss: 2.7595 - val_loss: 2.1290\n",
      "Epoch 10/200\n",
      "42/42 - 0s - loss: 2.5980 - val_loss: 2.1331\n",
      "Epoch 11/200\n",
      "42/42 - 0s - loss: 2.5160 - val_loss: 2.2668\n",
      "Epoch 12/200\n",
      "42/42 - 0s - loss: 2.5459 - val_loss: 2.2966\n",
      "Epoch 13/200\n",
      "42/42 - 0s - loss: 2.6302 - val_loss: 2.6025\n",
      "Epoch 14/200\n",
      "42/42 - 0s - loss: 2.6802 - val_loss: 2.8875\n",
      "Epoch 15/200\n",
      "42/42 - 0s - loss: 2.8067 - val_loss: 2.8424\n",
      "Epoch 16/200\n",
      "42/42 - 0s - loss: 2.8689 - val_loss: 3.1900\n",
      "Epoch 17/200\n",
      "42/42 - 0s - loss: 2.8448 - val_loss: 2.9125\n",
      "Epoch 18/200\n",
      "42/42 - 0s - loss: 2.7509 - val_loss: 3.0093\n",
      "Epoch 19/200\n",
      "42/42 - 0s - loss: 2.8439 - val_loss: 2.9680\n",
      "Epoch 20/200\n",
      "42/42 - 0s - loss: 2.6922 - val_loss: 2.7758\n",
      "Epoch 21/200\n",
      "42/42 - 0s - loss: 2.6567 - val_loss: 2.7130\n",
      "Epoch 22/200\n",
      "42/42 - 0s - loss: 2.5281 - val_loss: 2.5021\n",
      "Epoch 23/200\n",
      "42/42 - 0s - loss: 2.3724 - val_loss: 2.4221\n",
      "Epoch 24/200\n",
      "42/42 - 0s - loss: 2.3598 - val_loss: 2.3535\n",
      "Epoch 25/200\n",
      "42/42 - 0s - loss: 2.4515 - val_loss: 2.5797\n",
      "Epoch 26/200\n",
      "42/42 - 0s - loss: 2.4610 - val_loss: 2.4693\n",
      "Epoch 27/200\n",
      "42/42 - 0s - loss: 2.3994 - val_loss: 2.3292\n",
      "Epoch 28/200\n",
      "42/42 - 0s - loss: 2.2668 - val_loss: 2.2927\n",
      "Epoch 29/200\n",
      "42/42 - 0s - loss: 2.2378 - val_loss: 2.2642\n",
      "Epoch 30/200\n",
      "42/42 - 0s - loss: 2.3850 - val_loss: 2.5067\n",
      "Epoch 31/200\n",
      "42/42 - 0s - loss: 2.5040 - val_loss: 2.9870\n",
      "Epoch 32/200\n",
      "42/42 - 0s - loss: 2.4368 - val_loss: 2.6010\n",
      "Epoch 33/200\n",
      "42/42 - 0s - loss: 2.3680 - val_loss: 2.4419\n",
      "Epoch 34/200\n",
      "42/42 - 0s - loss: 2.5662 - val_loss: 3.2975\n",
      "Epoch 35/200\n",
      "42/42 - 0s - loss: 2.6081 - val_loss: 2.8172\n",
      "Epoch 36/200\n",
      "42/42 - 0s - loss: 2.6790 - val_loss: 2.7770\n",
      "Epoch 37/200\n",
      "42/42 - 0s - loss: 2.6283 - val_loss: 2.6986\n",
      "Epoch 38/200\n",
      "42/42 - 0s - loss: 2.6079 - val_loss: 2.6983\n",
      "Epoch 39/200\n",
      "42/42 - 0s - loss: 2.5968 - val_loss: 2.5776\n",
      "Epoch 40/200\n",
      "42/42 - 0s - loss: 2.4921 - val_loss: 2.4676\n",
      "Epoch 41/200\n",
      "42/42 - 0s - loss: 2.5330 - val_loss: 3.0148\n",
      "Epoch 42/200\n",
      "42/42 - 0s - loss: 2.6292 - val_loss: 2.7576\n",
      "Epoch 43/200\n",
      "42/42 - 0s - loss: 2.5056 - val_loss: 2.5223\n",
      "Epoch 44/200\n",
      "42/42 - 0s - loss: 2.4358 - val_loss: 2.4224\n",
      "Epoch 45/200\n",
      "42/42 - 0s - loss: 2.2909 - val_loss: 2.3183\n",
      "Epoch 46/200\n",
      "42/42 - 0s - loss: 2.2180 - val_loss: 2.1753\n",
      "Epoch 47/200\n",
      "42/42 - 0s - loss: 2.1315 - val_loss: 2.2105\n",
      "Epoch 48/200\n",
      "42/42 - 0s - loss: 2.2348 - val_loss: 2.2780\n",
      "Epoch 49/200\n",
      "42/42 - 0s - loss: 2.3153 - val_loss: 2.3624\n",
      "Epoch 50/200\n",
      "42/42 - 0s - loss: 2.3013 - val_loss: 2.3699\n",
      "Epoch 51/200\n",
      "42/42 - 0s - loss: 2.3684 - val_loss: 2.4071\n",
      "Epoch 52/200\n",
      "42/42 - 0s - loss: 2.3027 - val_loss: 2.3380\n",
      "Epoch 53/200\n",
      "42/42 - 0s - loss: 2.3502 - val_loss: 2.4723\n",
      "Epoch 54/200\n",
      "42/42 - 0s - loss: 2.3539 - val_loss: 2.3763\n",
      "Epoch 55/200\n",
      "42/42 - 0s - loss: 2.3070 - val_loss: 2.3238\n",
      "Epoch 56/200\n",
      "42/42 - 0s - loss: 2.2815 - val_loss: 2.2618\n",
      "Epoch 57/200\n",
      "42/42 - 0s - loss: 2.4313 - val_loss: 2.6332\n",
      "Epoch 58/200\n",
      "42/42 - 0s - loss: 2.4975 - val_loss: 2.5674\n",
      "Epoch 59/200\n",
      "42/42 - 0s - loss: 2.4521 - val_loss: 2.4093\n",
      "Epoch 60/200\n",
      "42/42 - 0s - loss: 2.3700 - val_loss: 2.4004\n",
      "Epoch 61/200\n",
      "42/42 - 0s - loss: 2.3621 - val_loss: 2.3502\n",
      "Epoch 62/200\n",
      "42/42 - 0s - loss: 2.2994 - val_loss: 2.2899\n",
      "Epoch 63/200\n",
      "42/42 - 0s - loss: 2.2752 - val_loss: 2.3158\n",
      "Epoch 64/200\n",
      "42/42 - 0s - loss: 2.3133 - val_loss: 2.3438\n",
      "Epoch 65/200\n",
      "42/42 - 0s - loss: 2.3304 - val_loss: 2.3921\n",
      "Epoch 66/200\n",
      "42/42 - 0s - loss: 2.3861 - val_loss: 2.4024\n",
      "Epoch 67/200\n",
      "42/42 - 0s - loss: 2.3795 - val_loss: 2.3834\n",
      "Epoch 68/200\n",
      "42/42 - 0s - loss: 2.3516 - val_loss: 2.3255\n",
      "Epoch 69/200\n",
      "42/42 - 0s - loss: 2.3043 - val_loss: 2.3157\n",
      "Epoch 70/200\n",
      "42/42 - 0s - loss: 2.3214 - val_loss: 2.3223\n",
      "Epoch 71/200\n",
      "42/42 - 0s - loss: 2.3218 - val_loss: 2.3129\n",
      "Epoch 72/200\n",
      "42/42 - 0s - loss: 2.3113 - val_loss: 2.4431\n",
      "Epoch 73/200\n",
      "42/42 - 0s - loss: 2.4722 - val_loss: 2.4835\n",
      "Epoch 74/200\n",
      "42/42 - 0s - loss: 2.4292 - val_loss: 2.4163\n",
      "Epoch 75/200\n",
      "42/42 - 0s - loss: 2.4842 - val_loss: 2.4459\n",
      "Epoch 76/200\n",
      "42/42 - 0s - loss: 2.4258 - val_loss: 2.3926\n",
      "Epoch 77/200\n",
      "42/42 - 0s - loss: 2.3944 - val_loss: 2.3803\n",
      "Epoch 78/200\n",
      "42/42 - 0s - loss: 2.3813 - val_loss: 2.3953\n",
      "Epoch 79/200\n",
      "42/42 - 0s - loss: 2.3998 - val_loss: 2.4118\n",
      "Epoch 80/200\n",
      "42/42 - 0s - loss: 2.4367 - val_loss: 2.5758\n",
      "Epoch 81/200\n",
      "42/42 - 0s - loss: 2.5193 - val_loss: 2.5298\n",
      "Epoch 82/200\n",
      "42/42 - 0s - loss: 2.4985 - val_loss: 2.4838\n",
      "Epoch 83/200\n",
      "42/42 - 0s - loss: 2.5207 - val_loss: 2.8169\n",
      "Epoch 84/200\n",
      "42/42 - 0s - loss: 2.5241 - val_loss: 2.7760\n",
      "Epoch 85/200\n",
      "42/42 - 0s - loss: 2.6293 - val_loss: 2.7396\n",
      "Epoch 86/200\n",
      "42/42 - 0s - loss: 2.5600 - val_loss: 2.6783\n",
      "Epoch 87/200\n",
      "42/42 - 0s - loss: 2.5281 - val_loss: 2.5367\n",
      "Epoch 88/200\n",
      "42/42 - 0s - loss: 2.4885 - val_loss: 2.5121\n",
      "Epoch 89/200\n",
      "42/42 - 0s - loss: 2.4307 - val_loss: 2.4240\n",
      "Epoch 90/200\n",
      "42/42 - 0s - loss: 2.3542 - val_loss: 2.3515\n",
      "Epoch 91/200\n",
      "42/42 - 0s - loss: 2.4757 - val_loss: 2.5840\n",
      "Epoch 92/200\n",
      "42/42 - 0s - loss: 2.4474 - val_loss: 2.4886\n",
      "Epoch 93/200\n",
      "42/42 - 0s - loss: 2.4253 - val_loss: 2.4813\n",
      "Epoch 94/200\n",
      "42/42 - 0s - loss: 2.4400 - val_loss: 2.4148\n",
      "Epoch 95/200\n",
      "42/42 - 0s - loss: 2.3884 - val_loss: 2.3572\n",
      "Epoch 96/200\n",
      "42/42 - 0s - loss: 2.3074 - val_loss: 2.2724\n",
      "Epoch 97/200\n",
      "42/42 - 0s - loss: 2.3028 - val_loss: 2.2607\n",
      "Epoch 98/200\n",
      "42/42 - 0s - loss: 2.2220 - val_loss: 2.2009\n",
      "Epoch 99/200\n",
      "42/42 - 0s - loss: 2.1721 - val_loss: 2.1370\n",
      "Epoch 100/200\n",
      "42/42 - 0s - loss: 2.1331 - val_loss: 2.1428\n",
      "Epoch 101/200\n",
      "42/42 - 0s - loss: 2.1276 - val_loss: 2.1537\n",
      "Epoch 102/200\n",
      "42/42 - 0s - loss: 2.1734 - val_loss: 2.2314\n",
      "Epoch 103/200\n",
      "42/42 - 0s - loss: 2.2071 - val_loss: 2.1746\n",
      "Epoch 104/200\n",
      "42/42 - 0s - loss: 2.1741 - val_loss: 2.1692\n",
      "Epoch 105/200\n",
      "42/42 - 0s - loss: 2.1591 - val_loss: 2.1861\n",
      "Epoch 106/200\n",
      "42/42 - 0s - loss: 2.1323 - val_loss: 2.1299\n",
      "Epoch 107/200\n",
      "42/42 - 0s - loss: 2.1787 - val_loss: 2.1659\n",
      "Epoch 108/200\n",
      "42/42 - 0s - loss: 2.1442 - val_loss: 2.1234\n",
      "Epoch 109/200\n",
      "42/42 - 0s - loss: 2.0896 - val_loss: 2.0984\n",
      "Epoch 110/200\n",
      "42/42 - 0s - loss: 2.1354 - val_loss: 2.2115\n",
      "Epoch 111/200\n",
      "42/42 - 0s - loss: 2.1929 - val_loss: 2.1847\n",
      "Epoch 112/200\n",
      "42/42 - 0s - loss: 2.1303 - val_loss: 2.1231\n",
      "Epoch 113/200\n",
      "42/42 - 0s - loss: 2.1266 - val_loss: 2.0676\n",
      "Epoch 114/200\n",
      "42/42 - 0s - loss: 2.0867 - val_loss: 2.1976\n",
      "Epoch 115/200\n",
      "42/42 - 0s - loss: 2.2026 - val_loss: 2.1905\n",
      "Epoch 116/200\n",
      "42/42 - 0s - loss: 2.1308 - val_loss: 2.1211\n",
      "Epoch 117/200\n",
      "42/42 - 0s - loss: 2.0668 - val_loss: 2.0356\n",
      "Epoch 118/200\n",
      "42/42 - 0s - loss: 1.9825 - val_loss: 1.9267\n",
      "Epoch 119/200\n",
      "42/42 - 0s - loss: 1.9189 - val_loss: 2.2267\n",
      "Epoch 120/200\n",
      "42/42 - 0s - loss: 1.9952 - val_loss: 2.1777\n",
      "Epoch 121/200\n",
      "42/42 - 0s - loss: 2.0005 - val_loss: 2.0698\n",
      "Epoch 122/200\n",
      "42/42 - 0s - loss: 2.1979 - val_loss: 2.7612\n",
      "Epoch 123/200\n",
      "42/42 - 0s - loss: 2.2029 - val_loss: 2.3715\n",
      "Epoch 124/200\n",
      "42/42 - 0s - loss: 2.1452 - val_loss: 2.2709\n",
      "Epoch 125/200\n",
      "42/42 - 0s - loss: 2.1206 - val_loss: 2.1888\n",
      "Epoch 126/200\n",
      "42/42 - 0s - loss: 2.1398 - val_loss: 2.1616\n",
      "Epoch 127/200\n",
      "42/42 - 0s - loss: 2.0610 - val_loss: 2.0810\n",
      "Epoch 128/200\n",
      "42/42 - 0s - loss: 2.0516 - val_loss: 2.0922\n",
      "Epoch 129/200\n",
      "42/42 - 0s - loss: 2.0030 - val_loss: 2.0102\n",
      "Epoch 130/200\n",
      "42/42 - 0s - loss: 1.9625 - val_loss: 1.9691\n",
      "Epoch 131/200\n",
      "42/42 - 0s - loss: 1.9137 - val_loss: 2.0286\n",
      "Epoch 132/200\n",
      "42/42 - 0s - loss: 2.0341 - val_loss: 2.1111\n",
      "Epoch 133/200\n",
      "42/42 - 0s - loss: 2.0465 - val_loss: 2.1936\n",
      "Epoch 134/200\n",
      "42/42 - 0s - loss: 2.0381 - val_loss: 2.1323\n",
      "Epoch 135/200\n",
      "42/42 - 0s - loss: 2.0167 - val_loss: 2.0747\n",
      "Epoch 136/200\n",
      "42/42 - 0s - loss: 2.0199 - val_loss: 2.0032\n",
      "Epoch 137/200\n",
      "42/42 - 0s - loss: 1.9767 - val_loss: 2.3978\n",
      "Epoch 138/200\n",
      "42/42 - 0s - loss: 2.0508 - val_loss: 2.2025\n",
      "Epoch 139/200\n",
      "42/42 - 0s - loss: 2.0090 - val_loss: 2.0151\n",
      "Epoch 140/200\n",
      "42/42 - 0s - loss: 1.9728 - val_loss: 2.0385\n",
      "Epoch 141/200\n",
      "42/42 - 0s - loss: 2.0113 - val_loss: 2.0114\n"
     ]
    },
    {
     "name": "stdout",
     "output_type": "stream",
     "text": [
      "Epoch 142/200\n",
      "42/42 - 0s - loss: 1.9753 - val_loss: 2.0018\n",
      "Epoch 143/200\n",
      "42/42 - 0s - loss: 2.0162 - val_loss: 2.0127\n",
      "Epoch 144/200\n",
      "42/42 - 0s - loss: 1.9678 - val_loss: 2.0011\n",
      "Epoch 145/200\n",
      "42/42 - 0s - loss: 2.0325 - val_loss: 2.0228\n",
      "Epoch 146/200\n",
      "42/42 - 0s - loss: 1.9670 - val_loss: 1.9178\n",
      "Epoch 147/200\n",
      "42/42 - 0s - loss: 1.9453 - val_loss: 1.9621\n",
      "Epoch 148/200\n",
      "42/42 - 0s - loss: 1.9419 - val_loss: 1.9492\n",
      "Epoch 149/200\n",
      "42/42 - 0s - loss: 1.9142 - val_loss: 1.9111\n",
      "Epoch 150/200\n",
      "42/42 - 0s - loss: 1.8673 - val_loss: 2.0630\n",
      "Epoch 151/200\n",
      "42/42 - 0s - loss: 1.8851 - val_loss: 1.9712\n",
      "Epoch 152/200\n",
      "42/42 - 0s - loss: 1.8779 - val_loss: 1.9197\n",
      "Epoch 153/200\n",
      "42/42 - 0s - loss: 1.9072 - val_loss: 2.0097\n",
      "Epoch 154/200\n",
      "42/42 - 0s - loss: 1.9649 - val_loss: 2.0132\n",
      "Epoch 155/200\n",
      "42/42 - 0s - loss: 1.9828 - val_loss: 1.9922\n",
      "Epoch 156/200\n",
      "42/42 - 0s - loss: 1.9370 - val_loss: 1.9484\n",
      "Epoch 157/200\n",
      "42/42 - 0s - loss: 1.8941 - val_loss: 1.9060\n",
      "Epoch 158/200\n",
      "42/42 - 0s - loss: 1.9100 - val_loss: 1.9197\n",
      "Epoch 159/200\n",
      "42/42 - 0s - loss: 1.9124 - val_loss: 1.9594\n",
      "Epoch 160/200\n",
      "42/42 - 0s - loss: 1.9487 - val_loss: 1.9119\n",
      "Epoch 161/200\n",
      "42/42 - 0s - loss: 1.8903 - val_loss: 1.8431\n",
      "Epoch 162/200\n",
      "42/42 - 0s - loss: 1.8882 - val_loss: 1.8708\n",
      "Epoch 163/200\n",
      "42/42 - 0s - loss: 1.8340 - val_loss: 1.7832\n",
      "Epoch 164/200\n",
      "42/42 - 0s - loss: 1.8652 - val_loss: 1.9510\n",
      "Epoch 165/200\n",
      "42/42 - 0s - loss: 1.9631 - val_loss: 1.9716\n",
      "Epoch 166/200\n",
      "42/42 - 0s - loss: 1.8787 - val_loss: 1.7981\n",
      "Epoch 167/200\n",
      "42/42 - 0s - loss: 1.7850 - val_loss: 1.8176\n",
      "Epoch 168/200\n",
      "42/42 - 0s - loss: 1.7473 - val_loss: 1.8417\n",
      "Epoch 169/200\n",
      "42/42 - 0s - loss: 1.7763 - val_loss: 1.8219\n",
      "Epoch 170/200\n",
      "42/42 - 0s - loss: 1.7773 - val_loss: 1.8091\n",
      "Epoch 171/200\n",
      "42/42 - 0s - loss: 1.7720 - val_loss: 1.7611\n",
      "Epoch 172/200\n",
      "42/42 - 0s - loss: 1.7098 - val_loss: 1.7114\n",
      "Epoch 173/200\n",
      "42/42 - 0s - loss: 1.6853 - val_loss: 1.6620\n",
      "Epoch 174/200\n",
      "42/42 - 0s - loss: 1.6592 - val_loss: 1.7129\n",
      "Epoch 175/200\n",
      "42/42 - 0s - loss: 1.6795 - val_loss: 1.6508\n",
      "Epoch 176/200\n",
      "42/42 - 0s - loss: 1.6030 - val_loss: 1.5620\n",
      "Epoch 177/200\n",
      "42/42 - 0s - loss: 1.5405 - val_loss: 1.5449\n",
      "Epoch 178/200\n",
      "42/42 - 0s - loss: 1.5344 - val_loss: 1.5679\n",
      "Epoch 179/200\n",
      "42/42 - 0s - loss: 1.5951 - val_loss: 1.6368\n",
      "Epoch 180/200\n",
      "42/42 - 0s - loss: 1.6751 - val_loss: 1.6980\n",
      "Epoch 181/200\n",
      "42/42 - 0s - loss: 1.7044 - val_loss: 1.7666\n",
      "Epoch 182/200\n",
      "42/42 - 0s - loss: 1.7332 - val_loss: 1.7479\n",
      "Epoch 183/200\n",
      "42/42 - 0s - loss: 1.7241 - val_loss: 1.7141\n",
      "Epoch 184/200\n",
      "42/42 - 0s - loss: 1.6823 - val_loss: 1.7101\n",
      "Epoch 185/200\n",
      "42/42 - 0s - loss: 1.6938 - val_loss: 1.7016\n",
      "Epoch 186/200\n",
      "42/42 - 0s - loss: 1.6539 - val_loss: 1.6536\n",
      "Epoch 187/200\n",
      "42/42 - 0s - loss: 1.6325 - val_loss: 1.6455\n",
      "Epoch 188/200\n",
      "42/42 - 0s - loss: 1.6061 - val_loss: 1.5563\n",
      "Epoch 189/200\n",
      "42/42 - 0s - loss: 1.5451 - val_loss: 1.5146\n",
      "Epoch 190/200\n",
      "42/42 - 0s - loss: 1.5234 - val_loss: 1.5051\n",
      "Epoch 191/200\n",
      "42/42 - 0s - loss: 1.5204 - val_loss: 1.5427\n",
      "Epoch 192/200\n",
      "42/42 - 0s - loss: 1.5281 - val_loss: 1.5250\n",
      "Epoch 193/200\n",
      "42/42 - 0s - loss: 1.5076 - val_loss: 1.4855\n",
      "Epoch 194/200\n",
      "42/42 - 0s - loss: 1.4325 - val_loss: 1.4118\n",
      "Epoch 195/200\n",
      "42/42 - 0s - loss: 1.4235 - val_loss: 1.4468\n",
      "Epoch 196/200\n",
      "42/42 - 0s - loss: 1.4841 - val_loss: 1.5582\n",
      "Epoch 197/200\n",
      "42/42 - 0s - loss: 1.5260 - val_loss: 1.6093\n",
      "Epoch 198/200\n",
      "42/42 - 0s - loss: 1.5562 - val_loss: 1.5548\n",
      "Epoch 199/200\n",
      "42/42 - 0s - loss: 1.5157 - val_loss: 1.5221\n",
      "Epoch 200/200\n",
      "42/42 - 0s - loss: 1.4802 - val_loss: 1.5080\n"
     ]
    }
   ],
   "source": [
    "#Ajustar o modelo autoencoder para reconstruir a entrada \n",
    "history = model.fit(X_train, X_train, epochs=200, batch_size=16, verbose=2, validation_data=(X_test,X_test))"
   ]
  },
  {
   "cell_type": "code",
   "execution_count": 102,
   "id": "fb9dec40",
   "metadata": {},
   "outputs": [
    {
     "data": {
      "image/png": "[encoded data removed]",
      "text/plain": [
       "<Figure size 432x288 with 1 Axes>"
      ]
     },
     "metadata": {
      "needs_background": "light"
     },
     "output_type": "display_data"
    }
   ],
   "source": [
    "# COm a função de perda binary_crossentropy\n",
    "pyplot.plot(history.history['loss'], label='train')\n",
    "pyplot.plot(history.history['val_loss'], label='test')\n",
    "pyplot.legend()\n",
    "pyplot.show()"
   ]
  },
  {
   "cell_type": "code",
   "execution_count": 80,
   "id": "5c06f8ee",
   "metadata": {},
   "outputs": [
    {
     "data": {
      "image/png": "[encoded data removed]",
      "text/plain": [
       "<Figure size 432x288 with 1 Axes>"
      ]
     },
     "metadata": {
      "needs_background": "light"
     },
     "output_type": "display_data"
    }
   ],
   "source": [
    "# Com a função de perda mse\n",
    "pyplot.plot(history.history['loss'], label='train')\n",
    "pyplot.plot(history.history['val_loss'], label='test')\n",
    "pyplot.legend()\n",
    "pyplot.show()"
   ]
  },
  {
   "cell_type": "code",
   "execution_count": 103,
   "id": "a41c164e",
   "metadata": {},
   "outputs": [],
   "source": [
    "# definir um modelo de codificador (sem o decodificador) \n",
    "encoder = Model(inputs=visible, outputs=bottleneck)"
   ]
  },
  {
   "cell_type": "code",
   "execution_count": 104,
   "id": "f0c9c3ce",
   "metadata": {},
   "outputs": [
    {
     "name": "stdout",
     "output_type": "stream",
     "text": [
      "WARNING:tensorflow:Compiled the loaded model, but the compiled metrics have yet to be built. `model.compile_metrics` will be empty until you train or evaluate the model.\n"
     ]
    }
   ],
   "source": [
    "# salvo o encoder para usar depois\n",
    "encoder.save('encoder.h5')"
   ]
  },
  {
   "cell_type": "markdown",
   "id": "1755f217",
   "metadata": {},
   "source": [
    "## Treinando um modelo de regressão logística diretamente no conjunto de dados de treinamento. Não estou utilizando ainda o rede neural."
   ]
  },
  {
   "cell_type": "code",
   "execution_count": 105,
   "id": "9bee7a85",
   "metadata": {},
   "outputs": [],
   "source": [
    "from sklearn.linear_model import LogisticRegression\n",
    "from sklearn.metrics import accuracy_score"
   ]
  },
  {
   "cell_type": "code",
   "execution_count": 106,
   "id": "b5d24595",
   "metadata": {},
   "outputs": [],
   "source": [
    "#Definindo o dataset\n",
    "X, y = make_classification(n_samples=1000, n_features=100, n_informative=10, n_redundant=90, random_state=1)\n",
    "#Dividindo em treinamento e teste\n",
    "X_train, X_test, y_train, y_test = train_test_split(X, y, test_size=0.33, random_state=1)\n",
    "# Aplicando a normalização min-max\n",
    "t = MinMaxScaler()\n",
    "t.fit(X_train)\n",
    "X_train = t.transform(X_train)\n",
    "X_test = t.transform(X_test)"
   ]
  },
  {
   "cell_type": "code",
   "execution_count": 107,
   "id": "6869ea35",
   "metadata": {},
   "outputs": [
    {
     "name": "stdout",
     "output_type": "stream",
     "text": [
      "0.8939393939393939\n"
     ]
    }
   ],
   "source": [
    "#Define o modelo\n",
    "model = LogisticRegression()\n",
    "#Ajuste do modelo do conjunto de treinamento\n",
    "model.fit(X_train, y_train)\n",
    "#Faz a predição no conjunto de teste\n",
    "yhat = model.predict(X_test)\n",
    "#Calcula accuracy\n",
    "acc = accuracy_score(y_test, yhat)\n",
    "print(acc)"
   ]
  },
  {
   "cell_type": "markdown",
   "id": "d762621b",
   "metadata": {},
   "source": [
    "## Vamos treinar o modelo preditivo na autoencoder"
   ]
  },
  {
   "cell_type": "code",
   "execution_count": 108,
   "id": "fdd18a9d",
   "metadata": {},
   "outputs": [
    {
     "name": "stdout",
     "output_type": "stream",
     "text": [
      "WARNING:tensorflow:No training configuration found in the save file, so the model was *not* compiled. Compile it manually.\n"
     ]
    }
   ],
   "source": [
    "# Carrega o modelo\n",
    "from tensorflow.keras.models import load_model\n",
    "encoder = load_model('encoder.h5')"
   ]
  },
  {
   "cell_type": "code",
   "execution_count": 109,
   "id": "7b06de3c",
   "metadata": {},
   "outputs": [],
   "source": [
    "# Treinando no encoder\n",
    "X_train_encode = encoder.predict(X_train)\n",
    "# encode the test data\n",
    "X_test_encode = encoder.predict(X_test)"
   ]
  },
  {
   "cell_type": "code",
   "execution_count": 110,
   "id": "7b522e89",
   "metadata": {},
   "outputs": [
    {
     "name": "stdout",
     "output_type": "stream",
     "text": [
      "0.9393939393939394\n"
     ]
    },
    {
     "name": "stderr",
     "output_type": "stream",
     "text": [
      "/home/joseluiz/anaconda3/lib/python3.8/site-packages/sklearn/linear_model/_logistic.py:763: ConvergenceWarning: lbfgs failed to converge (status=1):\n",
      "STOP: TOTAL NO. of ITERATIONS REACHED LIMIT.\n",
      "\n",
      "Increase the number of iterations (max_iter) or scale the data as shown in:\n",
      "    https://scikit-learn.org/stable/modules/preprocessing.html\n",
      "Please also refer to the documentation for alternative solver options:\n",
      "    https://scikit-learn.org/stable/modules/linear_model.html#logistic-regression\n",
      "  n_iter_i = _check_optimize_result(\n"
     ]
    }
   ],
   "source": [
    "#Define o modelo\n",
    "model = LogisticRegression()\n",
    "#Ajuste do modelo do conjunto de treinamento\n",
    "model.fit(X_train_encode, y_train)\n",
    "#Faz a predição no conjunto de teste\n",
    "yhat = model.predict(X_test_encode)\n",
    "#Calcula accuracy\n",
    "acc = accuracy_score(y_test, yhat)\n",
    "print(acc)"
   ]
  },
  {
   "cell_type": "markdown",
   "id": "27d5bd92",
   "metadata": {},
   "source": [
    "# Referências"
   ]
  },
  {
   "cell_type": "markdown",
   "id": "9f533896",
   "metadata": {},
   "source": [
    "### MONOLITONIMBUS. Disponível em: https://www.monolitonimbus.com.br/modelo-sequencial-do-keras/. Acesso em: 21/11/2021.\n",
    "### MACHINELEARNINGMASTERY. Disponível em: https://machinelearningmastery.com/autoencoder-for-classification/.Acesso em 21/11/2021\n",
    "### KERAS. Disponível em: https://keras.io/api/losses/. Acesso em 21/11/2021."
   ]
  },
  {
   "cell_type": "code",
   "execution_count": null,
   "id": "ac981d17",
   "metadata": {},
   "outputs": [],
   "source": []
  }
 ],
 "metadata": {
  "kernelspec": {
   "display_name": "Python 3",
   "language": "python",
   "name": "python3"
  },
  "language_info": {
   "codemirror_mode": {
    "name": "ipython",
    "version": 3
   },
   "file_extension": ".py",
   "mimetype": "text/x-python",
   "name": "python",
   "nbconvert_exporter": "python",
   "pygments_lexer": "ipython3",
   "version": "3.8.8"
  }
 },
 "nbformat": 4,
 "nbformat_minor": 5
}
