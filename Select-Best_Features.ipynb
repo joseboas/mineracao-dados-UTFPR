{
 "cells": [
  {
   "cell_type": "markdown",
   "metadata": {
    "_cell_guid": "b72f3424-c0c2-47e8-b18b-bc89253eab3f",
    "_execution_state": "idle",
    "_uuid": "bbc2abb85c63b8c357f5c2e0140105ed195f7fb4"
   },
   "source": [
    "# Atividade Prática. \n",
    "# Prazo: 08/Novembro\n",
    "- Base: Diabetes Diagnostic\n",
    "- Link: https://www.kaggle.com/houcembenmansour/predict-diabetes-based-on-diagnostic-measures"
   ]
  },
  {
   "cell_type": "markdown",
   "metadata": {
    "_cell_guid": "8d7fdae8-1d31-4873-a021-d553e2c4087c",
    "_execution_state": "idle",
    "_uuid": "c28fa7775a99901a882aee31e890ea99fe796d91",
    "slideshow": {
     "slide_type": "slide"
    }
   },
   "source": [
    "# Data Analysis"
   ]
  },
  {
   "cell_type": "code",
   "execution_count": 1,
   "metadata": {
    "_cell_guid": "52942f7b-e58d-4275-86f0-ced1bcea06f9",
    "_execution_state": "idle",
    "_uuid": "d7dc365d2933b6675c57c98d438356e4cc1e6125"
   },
   "outputs": [],
   "source": [
    "import numpy as np # linear algebra\n",
    "import pandas as pd # data processing, CSV file I/O (e.g. pd.read_csv)\n",
    "import seaborn as sns # data visualization library  \n",
    "import matplotlib.pyplot as plt\n",
    "import time\n",
    "from subprocess import check_output\n",
    "import warnings\n",
    "from imblearn.over_sampling import SMOTE\n",
    "warnings.filterwarnings(\"ignore\", category=FutureWarning)"
   ]
  },
  {
   "cell_type": "code",
   "execution_count": 2,
   "metadata": {
    "_cell_guid": "c9bd4680-5a5d-4ce5-8b85-1820d2e478d0",
    "_execution_state": "idle",
    "_uuid": "4a65810840012b075b5a359994931bec8acf9ab0"
   },
   "outputs": [],
   "source": [
    "data = pd.read_csv('./base/diabetes.csv')"
   ]
  },
  {
   "cell_type": "markdown",
   "metadata": {
    "_cell_guid": "48131d2a-cb21-4c1f-8213-f0e78647287c",
    "_execution_state": "idle",
    "_uuid": "81d7851cbda2bc774e989259005e98999b84c0b2"
   },
   "source": [
    "Before making anything like feature selection, feature extraction and classification, we start with basic data analysis. \n",
    "Lets look at features of data."
   ]
  },
  {
   "cell_type": "code",
   "execution_count": 3,
   "metadata": {
    "_cell_guid": "d30f1486-bb97-40d7-9125-67e6f15286dc",
    "_execution_state": "idle",
    "_uuid": "3e01972c830afa1ce55025c0b7a202d4b204dd1d"
   },
   "outputs": [
    {
     "data": {
      "text/html": [
       "<div>\n",
       "<style scoped>\n",
       "    .dataframe tbody tr th:only-of-type {\n",
       "        vertical-align: middle;\n",
       "    }\n",
       "\n",
       "    .dataframe tbody tr th {\n",
       "        vertical-align: top;\n",
       "    }\n",
       "\n",
       "    .dataframe thead th {\n",
       "        text-align: right;\n",
       "    }\n",
       "</style>\n",
       "<table border=\"1\" class=\"dataframe\">\n",
       "  <thead>\n",
       "    <tr style=\"text-align: right;\">\n",
       "      <th></th>\n",
       "      <th>patient_number</th>\n",
       "      <th>cholesterol</th>\n",
       "      <th>glucose</th>\n",
       "      <th>hdl_chol</th>\n",
       "      <th>chol_hdl_ratio</th>\n",
       "      <th>age</th>\n",
       "      <th>gender</th>\n",
       "      <th>height</th>\n",
       "      <th>weight</th>\n",
       "      <th>bmi</th>\n",
       "      <th>systolic_bp</th>\n",
       "      <th>diastolic_bp</th>\n",
       "      <th>waist</th>\n",
       "      <th>hip</th>\n",
       "      <th>waist_hip_ratio</th>\n",
       "      <th>diabetes</th>\n",
       "    </tr>\n",
       "  </thead>\n",
       "  <tbody>\n",
       "    <tr>\n",
       "      <th>0</th>\n",
       "      <td>1</td>\n",
       "      <td>193</td>\n",
       "      <td>77</td>\n",
       "      <td>49</td>\n",
       "      <td>3,9</td>\n",
       "      <td>19</td>\n",
       "      <td>female</td>\n",
       "      <td>61</td>\n",
       "      <td>119</td>\n",
       "      <td>22,5</td>\n",
       "      <td>118</td>\n",
       "      <td>70</td>\n",
       "      <td>32</td>\n",
       "      <td>38</td>\n",
       "      <td>0,84</td>\n",
       "      <td>No diabetes</td>\n",
       "    </tr>\n",
       "    <tr>\n",
       "      <th>1</th>\n",
       "      <td>2</td>\n",
       "      <td>146</td>\n",
       "      <td>79</td>\n",
       "      <td>41</td>\n",
       "      <td>3,6</td>\n",
       "      <td>19</td>\n",
       "      <td>female</td>\n",
       "      <td>60</td>\n",
       "      <td>135</td>\n",
       "      <td>26,4</td>\n",
       "      <td>108</td>\n",
       "      <td>58</td>\n",
       "      <td>33</td>\n",
       "      <td>40</td>\n",
       "      <td>0,83</td>\n",
       "      <td>No diabetes</td>\n",
       "    </tr>\n",
       "    <tr>\n",
       "      <th>2</th>\n",
       "      <td>3</td>\n",
       "      <td>217</td>\n",
       "      <td>75</td>\n",
       "      <td>54</td>\n",
       "      <td>4</td>\n",
       "      <td>20</td>\n",
       "      <td>female</td>\n",
       "      <td>67</td>\n",
       "      <td>187</td>\n",
       "      <td>29,3</td>\n",
       "      <td>110</td>\n",
       "      <td>72</td>\n",
       "      <td>40</td>\n",
       "      <td>45</td>\n",
       "      <td>0,89</td>\n",
       "      <td>No diabetes</td>\n",
       "    </tr>\n",
       "    <tr>\n",
       "      <th>3</th>\n",
       "      <td>4</td>\n",
       "      <td>226</td>\n",
       "      <td>97</td>\n",
       "      <td>70</td>\n",
       "      <td>3,2</td>\n",
       "      <td>20</td>\n",
       "      <td>female</td>\n",
       "      <td>64</td>\n",
       "      <td>114</td>\n",
       "      <td>19,6</td>\n",
       "      <td>122</td>\n",
       "      <td>64</td>\n",
       "      <td>31</td>\n",
       "      <td>39</td>\n",
       "      <td>0,79</td>\n",
       "      <td>No diabetes</td>\n",
       "    </tr>\n",
       "    <tr>\n",
       "      <th>4</th>\n",
       "      <td>5</td>\n",
       "      <td>164</td>\n",
       "      <td>91</td>\n",
       "      <td>67</td>\n",
       "      <td>2,4</td>\n",
       "      <td>20</td>\n",
       "      <td>female</td>\n",
       "      <td>70</td>\n",
       "      <td>141</td>\n",
       "      <td>20,2</td>\n",
       "      <td>122</td>\n",
       "      <td>86</td>\n",
       "      <td>32</td>\n",
       "      <td>39</td>\n",
       "      <td>0,82</td>\n",
       "      <td>No diabetes</td>\n",
       "    </tr>\n",
       "    <tr>\n",
       "      <th>...</th>\n",
       "      <td>...</td>\n",
       "      <td>...</td>\n",
       "      <td>...</td>\n",
       "      <td>...</td>\n",
       "      <td>...</td>\n",
       "      <td>...</td>\n",
       "      <td>...</td>\n",
       "      <td>...</td>\n",
       "      <td>...</td>\n",
       "      <td>...</td>\n",
       "      <td>...</td>\n",
       "      <td>...</td>\n",
       "      <td>...</td>\n",
       "      <td>...</td>\n",
       "      <td>...</td>\n",
       "      <td>...</td>\n",
       "    </tr>\n",
       "    <tr>\n",
       "      <th>385</th>\n",
       "      <td>386</td>\n",
       "      <td>227</td>\n",
       "      <td>105</td>\n",
       "      <td>44</td>\n",
       "      <td>5,2</td>\n",
       "      <td>83</td>\n",
       "      <td>female</td>\n",
       "      <td>59</td>\n",
       "      <td>125</td>\n",
       "      <td>25,2</td>\n",
       "      <td>150</td>\n",
       "      <td>90</td>\n",
       "      <td>35</td>\n",
       "      <td>40</td>\n",
       "      <td>0,88</td>\n",
       "      <td>No diabetes</td>\n",
       "    </tr>\n",
       "    <tr>\n",
       "      <th>386</th>\n",
       "      <td>387</td>\n",
       "      <td>226</td>\n",
       "      <td>279</td>\n",
       "      <td>52</td>\n",
       "      <td>4,3</td>\n",
       "      <td>84</td>\n",
       "      <td>female</td>\n",
       "      <td>60</td>\n",
       "      <td>192</td>\n",
       "      <td>37,5</td>\n",
       "      <td>144</td>\n",
       "      <td>88</td>\n",
       "      <td>41</td>\n",
       "      <td>48</td>\n",
       "      <td>0,85</td>\n",
       "      <td>Diabetes</td>\n",
       "    </tr>\n",
       "    <tr>\n",
       "      <th>387</th>\n",
       "      <td>388</td>\n",
       "      <td>301</td>\n",
       "      <td>90</td>\n",
       "      <td>118</td>\n",
       "      <td>2,6</td>\n",
       "      <td>89</td>\n",
       "      <td>female</td>\n",
       "      <td>61</td>\n",
       "      <td>115</td>\n",
       "      <td>21,7</td>\n",
       "      <td>218</td>\n",
       "      <td>90</td>\n",
       "      <td>31</td>\n",
       "      <td>41</td>\n",
       "      <td>0,76</td>\n",
       "      <td>No diabetes</td>\n",
       "    </tr>\n",
       "    <tr>\n",
       "      <th>388</th>\n",
       "      <td>389</td>\n",
       "      <td>232</td>\n",
       "      <td>184</td>\n",
       "      <td>114</td>\n",
       "      <td>2</td>\n",
       "      <td>91</td>\n",
       "      <td>female</td>\n",
       "      <td>61</td>\n",
       "      <td>127</td>\n",
       "      <td>24</td>\n",
       "      <td>170</td>\n",
       "      <td>82</td>\n",
       "      <td>35</td>\n",
       "      <td>38</td>\n",
       "      <td>0,92</td>\n",
       "      <td>Diabetes</td>\n",
       "    </tr>\n",
       "    <tr>\n",
       "      <th>389</th>\n",
       "      <td>390</td>\n",
       "      <td>165</td>\n",
       "      <td>94</td>\n",
       "      <td>69</td>\n",
       "      <td>2,4</td>\n",
       "      <td>92</td>\n",
       "      <td>female</td>\n",
       "      <td>62</td>\n",
       "      <td>217</td>\n",
       "      <td>39,7</td>\n",
       "      <td>160</td>\n",
       "      <td>82</td>\n",
       "      <td>51</td>\n",
       "      <td>51</td>\n",
       "      <td>1</td>\n",
       "      <td>No diabetes</td>\n",
       "    </tr>\n",
       "  </tbody>\n",
       "</table>\n",
       "<p>390 rows × 16 columns</p>\n",
       "</div>"
      ],
      "text/plain": [
       "     patient_number  cholesterol  glucose  hdl_chol chol_hdl_ratio  age  \\\n",
       "0                 1          193       77        49            3,9   19   \n",
       "1                 2          146       79        41            3,6   19   \n",
       "2                 3          217       75        54              4   20   \n",
       "3                 4          226       97        70            3,2   20   \n",
       "4                 5          164       91        67            2,4   20   \n",
       "..              ...          ...      ...       ...            ...  ...   \n",
       "385             386          227      105        44            5,2   83   \n",
       "386             387          226      279        52            4,3   84   \n",
       "387             388          301       90       118            2,6   89   \n",
       "388             389          232      184       114              2   91   \n",
       "389             390          165       94        69            2,4   92   \n",
       "\n",
       "     gender  height  weight   bmi  systolic_bp  diastolic_bp  waist  hip  \\\n",
       "0    female      61     119  22,5          118            70     32   38   \n",
       "1    female      60     135  26,4          108            58     33   40   \n",
       "2    female      67     187  29,3          110            72     40   45   \n",
       "3    female      64     114  19,6          122            64     31   39   \n",
       "4    female      70     141  20,2          122            86     32   39   \n",
       "..      ...     ...     ...   ...          ...           ...    ...  ...   \n",
       "385  female      59     125  25,2          150            90     35   40   \n",
       "386  female      60     192  37,5          144            88     41   48   \n",
       "387  female      61     115  21,7          218            90     31   41   \n",
       "388  female      61     127    24          170            82     35   38   \n",
       "389  female      62     217  39,7          160            82     51   51   \n",
       "\n",
       "    waist_hip_ratio     diabetes  \n",
       "0              0,84  No diabetes  \n",
       "1              0,83  No diabetes  \n",
       "2              0,89  No diabetes  \n",
       "3              0,79  No diabetes  \n",
       "4              0,82  No diabetes  \n",
       "..              ...          ...  \n",
       "385            0,88  No diabetes  \n",
       "386            0,85     Diabetes  \n",
       "387            0,76  No diabetes  \n",
       "388            0,92     Diabetes  \n",
       "389               1  No diabetes  \n",
       "\n",
       "[390 rows x 16 columns]"
      ]
     },
     "metadata": {},
     "output_type": "display_data"
    }
   ],
   "source": [
    "display(data)  # head method shows only first 5 rows"
   ]
  },
  {
   "cell_type": "markdown",
   "metadata": {},
   "source": [
    "# Vamos fazer uma cópia do Dataframe"
   ]
  },
  {
   "cell_type": "code",
   "execution_count": 4,
   "metadata": {},
   "outputs": [],
   "source": [
    "df = data.copy()"
   ]
  },
  {
   "cell_type": "code",
   "execution_count": 5,
   "metadata": {},
   "outputs": [
    {
     "data": {
      "text/html": [
       "<div>\n",
       "<style scoped>\n",
       "    .dataframe tbody tr th:only-of-type {\n",
       "        vertical-align: middle;\n",
       "    }\n",
       "\n",
       "    .dataframe tbody tr th {\n",
       "        vertical-align: top;\n",
       "    }\n",
       "\n",
       "    .dataframe thead th {\n",
       "        text-align: right;\n",
       "    }\n",
       "</style>\n",
       "<table border=\"1\" class=\"dataframe\">\n",
       "  <thead>\n",
       "    <tr style=\"text-align: right;\">\n",
       "      <th></th>\n",
       "      <th>patient_number</th>\n",
       "      <th>cholesterol</th>\n",
       "      <th>glucose</th>\n",
       "      <th>hdl_chol</th>\n",
       "      <th>chol_hdl_ratio</th>\n",
       "      <th>age</th>\n",
       "      <th>gender</th>\n",
       "      <th>height</th>\n",
       "      <th>weight</th>\n",
       "      <th>bmi</th>\n",
       "      <th>systolic_bp</th>\n",
       "      <th>diastolic_bp</th>\n",
       "      <th>waist</th>\n",
       "      <th>hip</th>\n",
       "      <th>waist_hip_ratio</th>\n",
       "      <th>diabetes</th>\n",
       "    </tr>\n",
       "  </thead>\n",
       "  <tbody>\n",
       "    <tr>\n",
       "      <th>0</th>\n",
       "      <td>1</td>\n",
       "      <td>193</td>\n",
       "      <td>77</td>\n",
       "      <td>49</td>\n",
       "      <td>3,9</td>\n",
       "      <td>19</td>\n",
       "      <td>female</td>\n",
       "      <td>61</td>\n",
       "      <td>119</td>\n",
       "      <td>22,5</td>\n",
       "      <td>118</td>\n",
       "      <td>70</td>\n",
       "      <td>32</td>\n",
       "      <td>38</td>\n",
       "      <td>0,84</td>\n",
       "      <td>No diabetes</td>\n",
       "    </tr>\n",
       "    <tr>\n",
       "      <th>1</th>\n",
       "      <td>2</td>\n",
       "      <td>146</td>\n",
       "      <td>79</td>\n",
       "      <td>41</td>\n",
       "      <td>3,6</td>\n",
       "      <td>19</td>\n",
       "      <td>female</td>\n",
       "      <td>60</td>\n",
       "      <td>135</td>\n",
       "      <td>26,4</td>\n",
       "      <td>108</td>\n",
       "      <td>58</td>\n",
       "      <td>33</td>\n",
       "      <td>40</td>\n",
       "      <td>0,83</td>\n",
       "      <td>No diabetes</td>\n",
       "    </tr>\n",
       "    <tr>\n",
       "      <th>2</th>\n",
       "      <td>3</td>\n",
       "      <td>217</td>\n",
       "      <td>75</td>\n",
       "      <td>54</td>\n",
       "      <td>4</td>\n",
       "      <td>20</td>\n",
       "      <td>female</td>\n",
       "      <td>67</td>\n",
       "      <td>187</td>\n",
       "      <td>29,3</td>\n",
       "      <td>110</td>\n",
       "      <td>72</td>\n",
       "      <td>40</td>\n",
       "      <td>45</td>\n",
       "      <td>0,89</td>\n",
       "      <td>No diabetes</td>\n",
       "    </tr>\n",
       "    <tr>\n",
       "      <th>3</th>\n",
       "      <td>4</td>\n",
       "      <td>226</td>\n",
       "      <td>97</td>\n",
       "      <td>70</td>\n",
       "      <td>3,2</td>\n",
       "      <td>20</td>\n",
       "      <td>female</td>\n",
       "      <td>64</td>\n",
       "      <td>114</td>\n",
       "      <td>19,6</td>\n",
       "      <td>122</td>\n",
       "      <td>64</td>\n",
       "      <td>31</td>\n",
       "      <td>39</td>\n",
       "      <td>0,79</td>\n",
       "      <td>No diabetes</td>\n",
       "    </tr>\n",
       "    <tr>\n",
       "      <th>4</th>\n",
       "      <td>5</td>\n",
       "      <td>164</td>\n",
       "      <td>91</td>\n",
       "      <td>67</td>\n",
       "      <td>2,4</td>\n",
       "      <td>20</td>\n",
       "      <td>female</td>\n",
       "      <td>70</td>\n",
       "      <td>141</td>\n",
       "      <td>20,2</td>\n",
       "      <td>122</td>\n",
       "      <td>86</td>\n",
       "      <td>32</td>\n",
       "      <td>39</td>\n",
       "      <td>0,82</td>\n",
       "      <td>No diabetes</td>\n",
       "    </tr>\n",
       "  </tbody>\n",
       "</table>\n",
       "</div>"
      ],
      "text/plain": [
       "   patient_number  cholesterol  glucose  hdl_chol chol_hdl_ratio  age  gender  \\\n",
       "0               1          193       77        49            3,9   19  female   \n",
       "1               2          146       79        41            3,6   19  female   \n",
       "2               3          217       75        54              4   20  female   \n",
       "3               4          226       97        70            3,2   20  female   \n",
       "4               5          164       91        67            2,4   20  female   \n",
       "\n",
       "   height  weight   bmi  systolic_bp  diastolic_bp  waist  hip  \\\n",
       "0      61     119  22,5          118            70     32   38   \n",
       "1      60     135  26,4          108            58     33   40   \n",
       "2      67     187  29,3          110            72     40   45   \n",
       "3      64     114  19,6          122            64     31   39   \n",
       "4      70     141  20,2          122            86     32   39   \n",
       "\n",
       "  waist_hip_ratio     diabetes  \n",
       "0            0,84  No diabetes  \n",
       "1            0,83  No diabetes  \n",
       "2            0,89  No diabetes  \n",
       "3            0,79  No diabetes  \n",
       "4            0,82  No diabetes  "
      ]
     },
     "execution_count": 5,
     "metadata": {},
     "output_type": "execute_result"
    }
   ],
   "source": [
    "df.head()"
   ]
  },
  {
   "cell_type": "markdown",
   "metadata": {},
   "source": [
    "# Vamos converter a classe para número"
   ]
  },
  {
   "cell_type": "code",
   "execution_count": 6,
   "metadata": {},
   "outputs": [
    {
     "data": {
      "text/plain": [
       "No diabetes    330\n",
       "Diabetes        60\n",
       "Name: diabetes, dtype: int64"
      ]
     },
     "execution_count": 6,
     "metadata": {},
     "output_type": "execute_result"
    }
   ],
   "source": [
    "#Mas antes vamos ver a distribuição\n",
    "df['diabetes'].value_counts()"
   ]
  },
  {
   "cell_type": "code",
   "execution_count": 7,
   "metadata": {},
   "outputs": [],
   "source": [
    "dicionario = {'No diabetes':0, 'Diabetes':1}\n",
    "df['diabetes'] = df['diabetes'].map(dicionario) "
   ]
  },
  {
   "cell_type": "code",
   "execution_count": 8,
   "metadata": {},
   "outputs": [
    {
     "data": {
      "text/html": [
       "<div>\n",
       "<style scoped>\n",
       "    .dataframe tbody tr th:only-of-type {\n",
       "        vertical-align: middle;\n",
       "    }\n",
       "\n",
       "    .dataframe tbody tr th {\n",
       "        vertical-align: top;\n",
       "    }\n",
       "\n",
       "    .dataframe thead th {\n",
       "        text-align: right;\n",
       "    }\n",
       "</style>\n",
       "<table border=\"1\" class=\"dataframe\">\n",
       "  <thead>\n",
       "    <tr style=\"text-align: right;\">\n",
       "      <th></th>\n",
       "      <th>patient_number</th>\n",
       "      <th>cholesterol</th>\n",
       "      <th>glucose</th>\n",
       "      <th>hdl_chol</th>\n",
       "      <th>chol_hdl_ratio</th>\n",
       "      <th>age</th>\n",
       "      <th>gender</th>\n",
       "      <th>height</th>\n",
       "      <th>weight</th>\n",
       "      <th>bmi</th>\n",
       "      <th>systolic_bp</th>\n",
       "      <th>diastolic_bp</th>\n",
       "      <th>waist</th>\n",
       "      <th>hip</th>\n",
       "      <th>waist_hip_ratio</th>\n",
       "      <th>diabetes</th>\n",
       "    </tr>\n",
       "  </thead>\n",
       "  <tbody>\n",
       "    <tr>\n",
       "      <th>0</th>\n",
       "      <td>1</td>\n",
       "      <td>193</td>\n",
       "      <td>77</td>\n",
       "      <td>49</td>\n",
       "      <td>3,9</td>\n",
       "      <td>19</td>\n",
       "      <td>female</td>\n",
       "      <td>61</td>\n",
       "      <td>119</td>\n",
       "      <td>22,5</td>\n",
       "      <td>118</td>\n",
       "      <td>70</td>\n",
       "      <td>32</td>\n",
       "      <td>38</td>\n",
       "      <td>0,84</td>\n",
       "      <td>0</td>\n",
       "    </tr>\n",
       "    <tr>\n",
       "      <th>1</th>\n",
       "      <td>2</td>\n",
       "      <td>146</td>\n",
       "      <td>79</td>\n",
       "      <td>41</td>\n",
       "      <td>3,6</td>\n",
       "      <td>19</td>\n",
       "      <td>female</td>\n",
       "      <td>60</td>\n",
       "      <td>135</td>\n",
       "      <td>26,4</td>\n",
       "      <td>108</td>\n",
       "      <td>58</td>\n",
       "      <td>33</td>\n",
       "      <td>40</td>\n",
       "      <td>0,83</td>\n",
       "      <td>0</td>\n",
       "    </tr>\n",
       "    <tr>\n",
       "      <th>2</th>\n",
       "      <td>3</td>\n",
       "      <td>217</td>\n",
       "      <td>75</td>\n",
       "      <td>54</td>\n",
       "      <td>4</td>\n",
       "      <td>20</td>\n",
       "      <td>female</td>\n",
       "      <td>67</td>\n",
       "      <td>187</td>\n",
       "      <td>29,3</td>\n",
       "      <td>110</td>\n",
       "      <td>72</td>\n",
       "      <td>40</td>\n",
       "      <td>45</td>\n",
       "      <td>0,89</td>\n",
       "      <td>0</td>\n",
       "    </tr>\n",
       "    <tr>\n",
       "      <th>3</th>\n",
       "      <td>4</td>\n",
       "      <td>226</td>\n",
       "      <td>97</td>\n",
       "      <td>70</td>\n",
       "      <td>3,2</td>\n",
       "      <td>20</td>\n",
       "      <td>female</td>\n",
       "      <td>64</td>\n",
       "      <td>114</td>\n",
       "      <td>19,6</td>\n",
       "      <td>122</td>\n",
       "      <td>64</td>\n",
       "      <td>31</td>\n",
       "      <td>39</td>\n",
       "      <td>0,79</td>\n",
       "      <td>0</td>\n",
       "    </tr>\n",
       "    <tr>\n",
       "      <th>4</th>\n",
       "      <td>5</td>\n",
       "      <td>164</td>\n",
       "      <td>91</td>\n",
       "      <td>67</td>\n",
       "      <td>2,4</td>\n",
       "      <td>20</td>\n",
       "      <td>female</td>\n",
       "      <td>70</td>\n",
       "      <td>141</td>\n",
       "      <td>20,2</td>\n",
       "      <td>122</td>\n",
       "      <td>86</td>\n",
       "      <td>32</td>\n",
       "      <td>39</td>\n",
       "      <td>0,82</td>\n",
       "      <td>0</td>\n",
       "    </tr>\n",
       "  </tbody>\n",
       "</table>\n",
       "</div>"
      ],
      "text/plain": [
       "   patient_number  cholesterol  glucose  hdl_chol chol_hdl_ratio  age  gender  \\\n",
       "0               1          193       77        49            3,9   19  female   \n",
       "1               2          146       79        41            3,6   19  female   \n",
       "2               3          217       75        54              4   20  female   \n",
       "3               4          226       97        70            3,2   20  female   \n",
       "4               5          164       91        67            2,4   20  female   \n",
       "\n",
       "   height  weight   bmi  systolic_bp  diastolic_bp  waist  hip  \\\n",
       "0      61     119  22,5          118            70     32   38   \n",
       "1      60     135  26,4          108            58     33   40   \n",
       "2      67     187  29,3          110            72     40   45   \n",
       "3      64     114  19,6          122            64     31   39   \n",
       "4      70     141  20,2          122            86     32   39   \n",
       "\n",
       "  waist_hip_ratio  diabetes  \n",
       "0            0,84         0  \n",
       "1            0,83         0  \n",
       "2            0,89         0  \n",
       "3            0,79         0  \n",
       "4            0,82         0  "
      ]
     },
     "execution_count": 8,
     "metadata": {},
     "output_type": "execute_result"
    }
   ],
   "source": [
    "df.head()"
   ]
  },
  {
   "cell_type": "markdown",
   "metadata": {},
   "source": [
    "# Vamos converter o Gênero"
   ]
  },
  {
   "cell_type": "code",
   "execution_count": 9,
   "metadata": {},
   "outputs": [],
   "source": [
    "df = pd.concat([df,pd.get_dummies(df['gender'], prefix='gender')],axis=1)\n",
    "df.drop(['gender'],axis=1, inplace=True)"
   ]
  },
  {
   "cell_type": "code",
   "execution_count": 10,
   "metadata": {},
   "outputs": [
    {
     "data": {
      "text/html": [
       "<div>\n",
       "<style scoped>\n",
       "    .dataframe tbody tr th:only-of-type {\n",
       "        vertical-align: middle;\n",
       "    }\n",
       "\n",
       "    .dataframe tbody tr th {\n",
       "        vertical-align: top;\n",
       "    }\n",
       "\n",
       "    .dataframe thead th {\n",
       "        text-align: right;\n",
       "    }\n",
       "</style>\n",
       "<table border=\"1\" class=\"dataframe\">\n",
       "  <thead>\n",
       "    <tr style=\"text-align: right;\">\n",
       "      <th></th>\n",
       "      <th>patient_number</th>\n",
       "      <th>cholesterol</th>\n",
       "      <th>glucose</th>\n",
       "      <th>hdl_chol</th>\n",
       "      <th>chol_hdl_ratio</th>\n",
       "      <th>age</th>\n",
       "      <th>height</th>\n",
       "      <th>weight</th>\n",
       "      <th>bmi</th>\n",
       "      <th>systolic_bp</th>\n",
       "      <th>diastolic_bp</th>\n",
       "      <th>waist</th>\n",
       "      <th>hip</th>\n",
       "      <th>waist_hip_ratio</th>\n",
       "      <th>diabetes</th>\n",
       "      <th>gender_female</th>\n",
       "      <th>gender_male</th>\n",
       "    </tr>\n",
       "  </thead>\n",
       "  <tbody>\n",
       "    <tr>\n",
       "      <th>0</th>\n",
       "      <td>1</td>\n",
       "      <td>193</td>\n",
       "      <td>77</td>\n",
       "      <td>49</td>\n",
       "      <td>3,9</td>\n",
       "      <td>19</td>\n",
       "      <td>61</td>\n",
       "      <td>119</td>\n",
       "      <td>22,5</td>\n",
       "      <td>118</td>\n",
       "      <td>70</td>\n",
       "      <td>32</td>\n",
       "      <td>38</td>\n",
       "      <td>0,84</td>\n",
       "      <td>0</td>\n",
       "      <td>1</td>\n",
       "      <td>0</td>\n",
       "    </tr>\n",
       "    <tr>\n",
       "      <th>1</th>\n",
       "      <td>2</td>\n",
       "      <td>146</td>\n",
       "      <td>79</td>\n",
       "      <td>41</td>\n",
       "      <td>3,6</td>\n",
       "      <td>19</td>\n",
       "      <td>60</td>\n",
       "      <td>135</td>\n",
       "      <td>26,4</td>\n",
       "      <td>108</td>\n",
       "      <td>58</td>\n",
       "      <td>33</td>\n",
       "      <td>40</td>\n",
       "      <td>0,83</td>\n",
       "      <td>0</td>\n",
       "      <td>1</td>\n",
       "      <td>0</td>\n",
       "    </tr>\n",
       "    <tr>\n",
       "      <th>2</th>\n",
       "      <td>3</td>\n",
       "      <td>217</td>\n",
       "      <td>75</td>\n",
       "      <td>54</td>\n",
       "      <td>4</td>\n",
       "      <td>20</td>\n",
       "      <td>67</td>\n",
       "      <td>187</td>\n",
       "      <td>29,3</td>\n",
       "      <td>110</td>\n",
       "      <td>72</td>\n",
       "      <td>40</td>\n",
       "      <td>45</td>\n",
       "      <td>0,89</td>\n",
       "      <td>0</td>\n",
       "      <td>1</td>\n",
       "      <td>0</td>\n",
       "    </tr>\n",
       "    <tr>\n",
       "      <th>3</th>\n",
       "      <td>4</td>\n",
       "      <td>226</td>\n",
       "      <td>97</td>\n",
       "      <td>70</td>\n",
       "      <td>3,2</td>\n",
       "      <td>20</td>\n",
       "      <td>64</td>\n",
       "      <td>114</td>\n",
       "      <td>19,6</td>\n",
       "      <td>122</td>\n",
       "      <td>64</td>\n",
       "      <td>31</td>\n",
       "      <td>39</td>\n",
       "      <td>0,79</td>\n",
       "      <td>0</td>\n",
       "      <td>1</td>\n",
       "      <td>0</td>\n",
       "    </tr>\n",
       "    <tr>\n",
       "      <th>4</th>\n",
       "      <td>5</td>\n",
       "      <td>164</td>\n",
       "      <td>91</td>\n",
       "      <td>67</td>\n",
       "      <td>2,4</td>\n",
       "      <td>20</td>\n",
       "      <td>70</td>\n",
       "      <td>141</td>\n",
       "      <td>20,2</td>\n",
       "      <td>122</td>\n",
       "      <td>86</td>\n",
       "      <td>32</td>\n",
       "      <td>39</td>\n",
       "      <td>0,82</td>\n",
       "      <td>0</td>\n",
       "      <td>1</td>\n",
       "      <td>0</td>\n",
       "    </tr>\n",
       "  </tbody>\n",
       "</table>\n",
       "</div>"
      ],
      "text/plain": [
       "   patient_number  cholesterol  glucose  hdl_chol chol_hdl_ratio  age  height  \\\n",
       "0               1          193       77        49            3,9   19      61   \n",
       "1               2          146       79        41            3,6   19      60   \n",
       "2               3          217       75        54              4   20      67   \n",
       "3               4          226       97        70            3,2   20      64   \n",
       "4               5          164       91        67            2,4   20      70   \n",
       "\n",
       "   weight   bmi  systolic_bp  diastolic_bp  waist  hip waist_hip_ratio  \\\n",
       "0     119  22,5          118            70     32   38            0,84   \n",
       "1     135  26,4          108            58     33   40            0,83   \n",
       "2     187  29,3          110            72     40   45            0,89   \n",
       "3     114  19,6          122            64     31   39            0,79   \n",
       "4     141  20,2          122            86     32   39            0,82   \n",
       "\n",
       "   diabetes  gender_female  gender_male  \n",
       "0         0              1            0  \n",
       "1         0              1            0  \n",
       "2         0              1            0  \n",
       "3         0              1            0  \n",
       "4         0              1            0  "
      ]
     },
     "execution_count": 10,
     "metadata": {},
     "output_type": "execute_result"
    }
   ],
   "source": [
    "df.head()"
   ]
  },
  {
   "cell_type": "markdown",
   "metadata": {},
   "source": [
    "# Converter a vírgula pelo ponto"
   ]
  },
  {
   "cell_type": "code",
   "execution_count": 11,
   "metadata": {},
   "outputs": [],
   "source": [
    "df['chol_hdl_ratio'] = df['chol_hdl_ratio'].str.replace(',', '.')"
   ]
  },
  {
   "cell_type": "code",
   "execution_count": 12,
   "metadata": {},
   "outputs": [],
   "source": [
    "df['bmi'] = df['bmi'].str.replace(',', '.')"
   ]
  },
  {
   "cell_type": "code",
   "execution_count": 13,
   "metadata": {},
   "outputs": [],
   "source": [
    "df['waist_hip_ratio'] = df['waist_hip_ratio'].str.replace(',','.')"
   ]
  },
  {
   "cell_type": "code",
   "execution_count": 14,
   "metadata": {},
   "outputs": [
    {
     "data": {
      "text/html": [
       "<div>\n",
       "<style scoped>\n",
       "    .dataframe tbody tr th:only-of-type {\n",
       "        vertical-align: middle;\n",
       "    }\n",
       "\n",
       "    .dataframe tbody tr th {\n",
       "        vertical-align: top;\n",
       "    }\n",
       "\n",
       "    .dataframe thead th {\n",
       "        text-align: right;\n",
       "    }\n",
       "</style>\n",
       "<table border=\"1\" class=\"dataframe\">\n",
       "  <thead>\n",
       "    <tr style=\"text-align: right;\">\n",
       "      <th></th>\n",
       "      <th>patient_number</th>\n",
       "      <th>cholesterol</th>\n",
       "      <th>glucose</th>\n",
       "      <th>hdl_chol</th>\n",
       "      <th>chol_hdl_ratio</th>\n",
       "      <th>age</th>\n",
       "      <th>height</th>\n",
       "      <th>weight</th>\n",
       "      <th>bmi</th>\n",
       "      <th>systolic_bp</th>\n",
       "      <th>diastolic_bp</th>\n",
       "      <th>waist</th>\n",
       "      <th>hip</th>\n",
       "      <th>waist_hip_ratio</th>\n",
       "      <th>diabetes</th>\n",
       "      <th>gender_female</th>\n",
       "      <th>gender_male</th>\n",
       "    </tr>\n",
       "  </thead>\n",
       "  <tbody>\n",
       "    <tr>\n",
       "      <th>0</th>\n",
       "      <td>1</td>\n",
       "      <td>193</td>\n",
       "      <td>77</td>\n",
       "      <td>49</td>\n",
       "      <td>3.9</td>\n",
       "      <td>19</td>\n",
       "      <td>61</td>\n",
       "      <td>119</td>\n",
       "      <td>22.5</td>\n",
       "      <td>118</td>\n",
       "      <td>70</td>\n",
       "      <td>32</td>\n",
       "      <td>38</td>\n",
       "      <td>0.84</td>\n",
       "      <td>0</td>\n",
       "      <td>1</td>\n",
       "      <td>0</td>\n",
       "    </tr>\n",
       "    <tr>\n",
       "      <th>1</th>\n",
       "      <td>2</td>\n",
       "      <td>146</td>\n",
       "      <td>79</td>\n",
       "      <td>41</td>\n",
       "      <td>3.6</td>\n",
       "      <td>19</td>\n",
       "      <td>60</td>\n",
       "      <td>135</td>\n",
       "      <td>26.4</td>\n",
       "      <td>108</td>\n",
       "      <td>58</td>\n",
       "      <td>33</td>\n",
       "      <td>40</td>\n",
       "      <td>0.83</td>\n",
       "      <td>0</td>\n",
       "      <td>1</td>\n",
       "      <td>0</td>\n",
       "    </tr>\n",
       "    <tr>\n",
       "      <th>2</th>\n",
       "      <td>3</td>\n",
       "      <td>217</td>\n",
       "      <td>75</td>\n",
       "      <td>54</td>\n",
       "      <td>4</td>\n",
       "      <td>20</td>\n",
       "      <td>67</td>\n",
       "      <td>187</td>\n",
       "      <td>29.3</td>\n",
       "      <td>110</td>\n",
       "      <td>72</td>\n",
       "      <td>40</td>\n",
       "      <td>45</td>\n",
       "      <td>0.89</td>\n",
       "      <td>0</td>\n",
       "      <td>1</td>\n",
       "      <td>0</td>\n",
       "    </tr>\n",
       "    <tr>\n",
       "      <th>3</th>\n",
       "      <td>4</td>\n",
       "      <td>226</td>\n",
       "      <td>97</td>\n",
       "      <td>70</td>\n",
       "      <td>3.2</td>\n",
       "      <td>20</td>\n",
       "      <td>64</td>\n",
       "      <td>114</td>\n",
       "      <td>19.6</td>\n",
       "      <td>122</td>\n",
       "      <td>64</td>\n",
       "      <td>31</td>\n",
       "      <td>39</td>\n",
       "      <td>0.79</td>\n",
       "      <td>0</td>\n",
       "      <td>1</td>\n",
       "      <td>0</td>\n",
       "    </tr>\n",
       "    <tr>\n",
       "      <th>4</th>\n",
       "      <td>5</td>\n",
       "      <td>164</td>\n",
       "      <td>91</td>\n",
       "      <td>67</td>\n",
       "      <td>2.4</td>\n",
       "      <td>20</td>\n",
       "      <td>70</td>\n",
       "      <td>141</td>\n",
       "      <td>20.2</td>\n",
       "      <td>122</td>\n",
       "      <td>86</td>\n",
       "      <td>32</td>\n",
       "      <td>39</td>\n",
       "      <td>0.82</td>\n",
       "      <td>0</td>\n",
       "      <td>1</td>\n",
       "      <td>0</td>\n",
       "    </tr>\n",
       "  </tbody>\n",
       "</table>\n",
       "</div>"
      ],
      "text/plain": [
       "   patient_number  cholesterol  glucose  hdl_chol chol_hdl_ratio  age  height  \\\n",
       "0               1          193       77        49            3.9   19      61   \n",
       "1               2          146       79        41            3.6   19      60   \n",
       "2               3          217       75        54              4   20      67   \n",
       "3               4          226       97        70            3.2   20      64   \n",
       "4               5          164       91        67            2.4   20      70   \n",
       "\n",
       "   weight   bmi  systolic_bp  diastolic_bp  waist  hip waist_hip_ratio  \\\n",
       "0     119  22.5          118            70     32   38            0.84   \n",
       "1     135  26.4          108            58     33   40            0.83   \n",
       "2     187  29.3          110            72     40   45            0.89   \n",
       "3     114  19.6          122            64     31   39            0.79   \n",
       "4     141  20.2          122            86     32   39            0.82   \n",
       "\n",
       "   diabetes  gender_female  gender_male  \n",
       "0         0              1            0  \n",
       "1         0              1            0  \n",
       "2         0              1            0  \n",
       "3         0              1            0  \n",
       "4         0              1            0  "
      ]
     },
     "execution_count": 14,
     "metadata": {},
     "output_type": "execute_result"
    }
   ],
   "source": [
    "df.head()"
   ]
  },
  {
   "cell_type": "markdown",
   "metadata": {},
   "source": [
    "## Remoção de atributos irrelevantes"
   ]
  },
  {
   "cell_type": "code",
   "execution_count": 15,
   "metadata": {
    "_cell_guid": "60308baf-344a-41fb-8580-cef707ce5aa8",
    "_execution_state": "idle",
    "_uuid": "54600377cdbec016505dcb970bb1988afbc260a2"
   },
   "outputs": [
    {
     "name": "stdout",
     "output_type": "stream",
     "text": [
      "Index(['patient_number', 'cholesterol', 'glucose', 'hdl_chol',\n",
      "       'chol_hdl_ratio', 'age', 'height', 'weight', 'bmi', 'systolic_bp',\n",
      "       'diastolic_bp', 'waist', 'hip', 'waist_hip_ratio', 'diabetes',\n",
      "       'gender_female', 'gender_male'],\n",
      "      dtype='object')\n"
     ]
    }
   ],
   "source": [
    "# feature names as an Index (panda object including a list of column names and dtype)\n",
    "col = df.columns       # .columns gives columns names in data \n",
    "print(col)"
   ]
  },
  {
   "cell_type": "code",
   "execution_count": 16,
   "metadata": {},
   "outputs": [
    {
     "data": {
      "text/plain": [
       "Index(['patient_number', 'cholesterol', 'glucose', 'hdl_chol',\n",
       "       'chol_hdl_ratio', 'age', 'height', 'weight', 'bmi', 'systolic_bp',\n",
       "       'diastolic_bp', 'waist', 'hip', 'waist_hip_ratio', 'diabetes',\n",
       "       'gender_female', 'gender_male'],\n",
       "      dtype='object')"
      ]
     },
     "execution_count": 16,
     "metadata": {},
     "output_type": "execute_result"
    }
   ],
   "source": [
    "df.columns"
   ]
  },
  {
   "cell_type": "code",
   "execution_count": 17,
   "metadata": {
    "_cell_guid": "8764b4cf-9963-4c1a-b449-059de8153e4c",
    "_execution_state": "idle",
    "_uuid": "94ea75618315ac7af54cf80a501c42b40e77ecbc",
    "scrolled": true
   },
   "outputs": [],
   "source": [
    "X = df.drop(['patient_number','diabetes'],axis = 1)\n",
    "y = df['diabetes']  "
   ]
  },
  {
   "cell_type": "code",
   "execution_count": 18,
   "metadata": {},
   "outputs": [
    {
     "data": {
      "text/plain": [
       "0    0\n",
       "1    0\n",
       "2    0\n",
       "3    0\n",
       "4    0\n",
       "Name: diabetes, dtype: int64"
      ]
     },
     "execution_count": 18,
     "metadata": {},
     "output_type": "execute_result"
    }
   ],
   "source": [
    "y.head()"
   ]
  },
  {
   "cell_type": "code",
   "execution_count": 19,
   "metadata": {},
   "outputs": [
    {
     "data": {
      "text/html": [
       "<div>\n",
       "<style scoped>\n",
       "    .dataframe tbody tr th:only-of-type {\n",
       "        vertical-align: middle;\n",
       "    }\n",
       "\n",
       "    .dataframe tbody tr th {\n",
       "        vertical-align: top;\n",
       "    }\n",
       "\n",
       "    .dataframe thead th {\n",
       "        text-align: right;\n",
       "    }\n",
       "</style>\n",
       "<table border=\"1\" class=\"dataframe\">\n",
       "  <thead>\n",
       "    <tr style=\"text-align: right;\">\n",
       "      <th></th>\n",
       "      <th>cholesterol</th>\n",
       "      <th>glucose</th>\n",
       "      <th>hdl_chol</th>\n",
       "      <th>chol_hdl_ratio</th>\n",
       "      <th>age</th>\n",
       "      <th>height</th>\n",
       "      <th>weight</th>\n",
       "      <th>bmi</th>\n",
       "      <th>systolic_bp</th>\n",
       "      <th>diastolic_bp</th>\n",
       "      <th>waist</th>\n",
       "      <th>hip</th>\n",
       "      <th>waist_hip_ratio</th>\n",
       "      <th>gender_female</th>\n",
       "      <th>gender_male</th>\n",
       "    </tr>\n",
       "  </thead>\n",
       "  <tbody>\n",
       "    <tr>\n",
       "      <th>0</th>\n",
       "      <td>193</td>\n",
       "      <td>77</td>\n",
       "      <td>49</td>\n",
       "      <td>3.9</td>\n",
       "      <td>19</td>\n",
       "      <td>61</td>\n",
       "      <td>119</td>\n",
       "      <td>22.5</td>\n",
       "      <td>118</td>\n",
       "      <td>70</td>\n",
       "      <td>32</td>\n",
       "      <td>38</td>\n",
       "      <td>0.84</td>\n",
       "      <td>1</td>\n",
       "      <td>0</td>\n",
       "    </tr>\n",
       "    <tr>\n",
       "      <th>1</th>\n",
       "      <td>146</td>\n",
       "      <td>79</td>\n",
       "      <td>41</td>\n",
       "      <td>3.6</td>\n",
       "      <td>19</td>\n",
       "      <td>60</td>\n",
       "      <td>135</td>\n",
       "      <td>26.4</td>\n",
       "      <td>108</td>\n",
       "      <td>58</td>\n",
       "      <td>33</td>\n",
       "      <td>40</td>\n",
       "      <td>0.83</td>\n",
       "      <td>1</td>\n",
       "      <td>0</td>\n",
       "    </tr>\n",
       "    <tr>\n",
       "      <th>2</th>\n",
       "      <td>217</td>\n",
       "      <td>75</td>\n",
       "      <td>54</td>\n",
       "      <td>4</td>\n",
       "      <td>20</td>\n",
       "      <td>67</td>\n",
       "      <td>187</td>\n",
       "      <td>29.3</td>\n",
       "      <td>110</td>\n",
       "      <td>72</td>\n",
       "      <td>40</td>\n",
       "      <td>45</td>\n",
       "      <td>0.89</td>\n",
       "      <td>1</td>\n",
       "      <td>0</td>\n",
       "    </tr>\n",
       "    <tr>\n",
       "      <th>3</th>\n",
       "      <td>226</td>\n",
       "      <td>97</td>\n",
       "      <td>70</td>\n",
       "      <td>3.2</td>\n",
       "      <td>20</td>\n",
       "      <td>64</td>\n",
       "      <td>114</td>\n",
       "      <td>19.6</td>\n",
       "      <td>122</td>\n",
       "      <td>64</td>\n",
       "      <td>31</td>\n",
       "      <td>39</td>\n",
       "      <td>0.79</td>\n",
       "      <td>1</td>\n",
       "      <td>0</td>\n",
       "    </tr>\n",
       "    <tr>\n",
       "      <th>4</th>\n",
       "      <td>164</td>\n",
       "      <td>91</td>\n",
       "      <td>67</td>\n",
       "      <td>2.4</td>\n",
       "      <td>20</td>\n",
       "      <td>70</td>\n",
       "      <td>141</td>\n",
       "      <td>20.2</td>\n",
       "      <td>122</td>\n",
       "      <td>86</td>\n",
       "      <td>32</td>\n",
       "      <td>39</td>\n",
       "      <td>0.82</td>\n",
       "      <td>1</td>\n",
       "      <td>0</td>\n",
       "    </tr>\n",
       "    <tr>\n",
       "      <th>...</th>\n",
       "      <td>...</td>\n",
       "      <td>...</td>\n",
       "      <td>...</td>\n",
       "      <td>...</td>\n",
       "      <td>...</td>\n",
       "      <td>...</td>\n",
       "      <td>...</td>\n",
       "      <td>...</td>\n",
       "      <td>...</td>\n",
       "      <td>...</td>\n",
       "      <td>...</td>\n",
       "      <td>...</td>\n",
       "      <td>...</td>\n",
       "      <td>...</td>\n",
       "      <td>...</td>\n",
       "    </tr>\n",
       "    <tr>\n",
       "      <th>385</th>\n",
       "      <td>227</td>\n",
       "      <td>105</td>\n",
       "      <td>44</td>\n",
       "      <td>5.2</td>\n",
       "      <td>83</td>\n",
       "      <td>59</td>\n",
       "      <td>125</td>\n",
       "      <td>25.2</td>\n",
       "      <td>150</td>\n",
       "      <td>90</td>\n",
       "      <td>35</td>\n",
       "      <td>40</td>\n",
       "      <td>0.88</td>\n",
       "      <td>1</td>\n",
       "      <td>0</td>\n",
       "    </tr>\n",
       "    <tr>\n",
       "      <th>386</th>\n",
       "      <td>226</td>\n",
       "      <td>279</td>\n",
       "      <td>52</td>\n",
       "      <td>4.3</td>\n",
       "      <td>84</td>\n",
       "      <td>60</td>\n",
       "      <td>192</td>\n",
       "      <td>37.5</td>\n",
       "      <td>144</td>\n",
       "      <td>88</td>\n",
       "      <td>41</td>\n",
       "      <td>48</td>\n",
       "      <td>0.85</td>\n",
       "      <td>1</td>\n",
       "      <td>0</td>\n",
       "    </tr>\n",
       "    <tr>\n",
       "      <th>387</th>\n",
       "      <td>301</td>\n",
       "      <td>90</td>\n",
       "      <td>118</td>\n",
       "      <td>2.6</td>\n",
       "      <td>89</td>\n",
       "      <td>61</td>\n",
       "      <td>115</td>\n",
       "      <td>21.7</td>\n",
       "      <td>218</td>\n",
       "      <td>90</td>\n",
       "      <td>31</td>\n",
       "      <td>41</td>\n",
       "      <td>0.76</td>\n",
       "      <td>1</td>\n",
       "      <td>0</td>\n",
       "    </tr>\n",
       "    <tr>\n",
       "      <th>388</th>\n",
       "      <td>232</td>\n",
       "      <td>184</td>\n",
       "      <td>114</td>\n",
       "      <td>2</td>\n",
       "      <td>91</td>\n",
       "      <td>61</td>\n",
       "      <td>127</td>\n",
       "      <td>24</td>\n",
       "      <td>170</td>\n",
       "      <td>82</td>\n",
       "      <td>35</td>\n",
       "      <td>38</td>\n",
       "      <td>0.92</td>\n",
       "      <td>1</td>\n",
       "      <td>0</td>\n",
       "    </tr>\n",
       "    <tr>\n",
       "      <th>389</th>\n",
       "      <td>165</td>\n",
       "      <td>94</td>\n",
       "      <td>69</td>\n",
       "      <td>2.4</td>\n",
       "      <td>92</td>\n",
       "      <td>62</td>\n",
       "      <td>217</td>\n",
       "      <td>39.7</td>\n",
       "      <td>160</td>\n",
       "      <td>82</td>\n",
       "      <td>51</td>\n",
       "      <td>51</td>\n",
       "      <td>1</td>\n",
       "      <td>1</td>\n",
       "      <td>0</td>\n",
       "    </tr>\n",
       "  </tbody>\n",
       "</table>\n",
       "<p>390 rows × 15 columns</p>\n",
       "</div>"
      ],
      "text/plain": [
       "     cholesterol  glucose  hdl_chol chol_hdl_ratio  age  height  weight   bmi  \\\n",
       "0            193       77        49            3.9   19      61     119  22.5   \n",
       "1            146       79        41            3.6   19      60     135  26.4   \n",
       "2            217       75        54              4   20      67     187  29.3   \n",
       "3            226       97        70            3.2   20      64     114  19.6   \n",
       "4            164       91        67            2.4   20      70     141  20.2   \n",
       "..           ...      ...       ...            ...  ...     ...     ...   ...   \n",
       "385          227      105        44            5.2   83      59     125  25.2   \n",
       "386          226      279        52            4.3   84      60     192  37.5   \n",
       "387          301       90       118            2.6   89      61     115  21.7   \n",
       "388          232      184       114              2   91      61     127    24   \n",
       "389          165       94        69            2.4   92      62     217  39.7   \n",
       "\n",
       "     systolic_bp  diastolic_bp  waist  hip waist_hip_ratio  gender_female  \\\n",
       "0            118            70     32   38            0.84              1   \n",
       "1            108            58     33   40            0.83              1   \n",
       "2            110            72     40   45            0.89              1   \n",
       "3            122            64     31   39            0.79              1   \n",
       "4            122            86     32   39            0.82              1   \n",
       "..           ...           ...    ...  ...             ...            ...   \n",
       "385          150            90     35   40            0.88              1   \n",
       "386          144            88     41   48            0.85              1   \n",
       "387          218            90     31   41            0.76              1   \n",
       "388          170            82     35   38            0.92              1   \n",
       "389          160            82     51   51               1              1   \n",
       "\n",
       "     gender_male  \n",
       "0              0  \n",
       "1              0  \n",
       "2              0  \n",
       "3              0  \n",
       "4              0  \n",
       "..           ...  \n",
       "385            0  \n",
       "386            0  \n",
       "387            0  \n",
       "388            0  \n",
       "389            0  \n",
       "\n",
       "[390 rows x 15 columns]"
      ]
     },
     "execution_count": 19,
     "metadata": {},
     "output_type": "execute_result"
    }
   ],
   "source": [
    "X"
   ]
  },
  {
   "cell_type": "markdown",
   "metadata": {},
   "source": [
    "## Distruição das amostras entre as classes"
   ]
  },
  {
   "cell_type": "code",
   "execution_count": 20,
   "metadata": {},
   "outputs": [
    {
     "data": {
      "text/plain": [
       "0    330\n",
       "1     60\n",
       "Name: diabetes, dtype: int64"
      ]
     },
     "execution_count": 20,
     "metadata": {},
     "output_type": "execute_result"
    }
   ],
   "source": [
    "y.value_counts()"
   ]
  },
  {
   "cell_type": "code",
   "execution_count": 21,
   "metadata": {
    "_cell_guid": "31ec8d06-ea25-4b34-84ca-c322b3d8a10f",
    "_execution_state": "idle",
    "_uuid": "71fecf26e957a2d670182d607aca5a7b92b4a3b6"
   },
   "outputs": [
    {
     "name": "stdout",
     "output_type": "stream",
     "text": [
      "No Diabetes:  330\n",
      "Diabetes :  60\n"
     ]
    },
    {
     "data": {
      "image/png": "[encoded data removed]",
      "text/plain": [
       "<Figure size 432x288 with 1 Axes>"
      ]
     },
     "metadata": {},
     "output_type": "display_data"
    }
   ],
   "source": [
    "sns.set(style=\"darkgrid\")\n",
    "ax = sns.countplot(x = y)       # M = 212, B = 357\n",
    "N, S = y.value_counts(sort=True) #sort=True (default) in order to be sure B, M are in the right order (alphabetical)\n",
    "print('No Diabetes: ',N)\n",
    "print('Diabetes : ',S)"
   ]
  },
  {
   "cell_type": "markdown",
   "metadata": {},
   "source": [
    "# Balancemaneto das classes"
   ]
  },
  {
   "cell_type": "code",
   "execution_count": 22,
   "metadata": {},
   "outputs": [],
   "source": [
    "smt = SMOTE()\n",
    "X,y = smt.fit_resample(X,y) "
   ]
  },
  {
   "cell_type": "markdown",
   "metadata": {},
   "source": [
    "# Rever a distruição das amostras entre as classes"
   ]
  },
  {
   "cell_type": "code",
   "execution_count": 23,
   "metadata": {},
   "outputs": [
    {
     "name": "stdout",
     "output_type": "stream",
     "text": [
      "No Diabetes:  330\n",
      "Diabetes :  330\n"
     ]
    },
    {
     "data": {
      "image/png": "[encoded data removed]",
      "text/plain": [
       "<Figure size 432x288 with 1 Axes>"
      ]
     },
     "metadata": {},
     "output_type": "display_data"
    }
   ],
   "source": [
    "sns.set(style=\"darkgrid\")\n",
    "ax = sns.countplot(x = y)       # M = 212, B = 357\n",
    "N, S = y.value_counts(sort=True) #sort=True (default) in order to be sure B, M are in the right order (alphabetical)\n",
    "print('No Diabetes: ',N)\n",
    "print('Diabetes : ',S)"
   ]
  },
  {
   "cell_type": "markdown",
   "metadata": {
    "_uuid": "94fe7f8e5dc03cecd9748b01b6837429024d8a75"
   },
   "source": [
    "### Verifica se há dados faltantes"
   ]
  },
  {
   "cell_type": "code",
   "execution_count": 24,
   "metadata": {
    "_uuid": "f08888ce25b77ff7bdc4ea6d6d1b1a043e5711c1"
   },
   "outputs": [
    {
     "data": {
      "text/plain": [
       "False"
      ]
     },
     "execution_count": 24,
     "metadata": {},
     "output_type": "execute_result"
    }
   ],
   "source": [
    "#check if there is a NaN value in our data frame x, a False indicates there are no missing values\n",
    "X.isnull().values.any()"
   ]
  },
  {
   "cell_type": "markdown",
   "metadata": {
    "_uuid": "e021de7c8f5408e22cee520cfb4207d8d6d7cb09"
   },
   "source": [
    "Let's now use the describe function in order to look at our features :"
   ]
  },
  {
   "cell_type": "code",
   "execution_count": 25,
   "metadata": {
    "_cell_guid": "c92292c2-d999-42f3-8618-73b231c163e6",
    "_execution_state": "idle",
    "_uuid": "7d909ed445dd83306413a72986cebc17d1814cc7"
   },
   "outputs": [
    {
     "data": {
      "text/html": [
       "<div>\n",
       "<style scoped>\n",
       "    .dataframe tbody tr th:only-of-type {\n",
       "        vertical-align: middle;\n",
       "    }\n",
       "\n",
       "    .dataframe tbody tr th {\n",
       "        vertical-align: top;\n",
       "    }\n",
       "\n",
       "    .dataframe thead th {\n",
       "        text-align: right;\n",
       "    }\n",
       "</style>\n",
       "<table border=\"1\" class=\"dataframe\">\n",
       "  <thead>\n",
       "    <tr style=\"text-align: right;\">\n",
       "      <th></th>\n",
       "      <th>cholesterol</th>\n",
       "      <th>glucose</th>\n",
       "      <th>hdl_chol</th>\n",
       "      <th>chol_hdl_ratio</th>\n",
       "      <th>age</th>\n",
       "      <th>height</th>\n",
       "      <th>weight</th>\n",
       "      <th>bmi</th>\n",
       "      <th>systolic_bp</th>\n",
       "      <th>diastolic_bp</th>\n",
       "      <th>waist</th>\n",
       "      <th>hip</th>\n",
       "      <th>waist_hip_ratio</th>\n",
       "      <th>gender_female</th>\n",
       "      <th>gender_male</th>\n",
       "    </tr>\n",
       "  </thead>\n",
       "  <tbody>\n",
       "    <tr>\n",
       "      <th>0</th>\n",
       "      <td>193</td>\n",
       "      <td>77</td>\n",
       "      <td>49</td>\n",
       "      <td>3.9</td>\n",
       "      <td>19</td>\n",
       "      <td>61</td>\n",
       "      <td>119</td>\n",
       "      <td>22.5</td>\n",
       "      <td>118</td>\n",
       "      <td>70</td>\n",
       "      <td>32</td>\n",
       "      <td>38</td>\n",
       "      <td>0.84</td>\n",
       "      <td>1</td>\n",
       "      <td>0</td>\n",
       "    </tr>\n",
       "    <tr>\n",
       "      <th>1</th>\n",
       "      <td>146</td>\n",
       "      <td>79</td>\n",
       "      <td>41</td>\n",
       "      <td>3.6</td>\n",
       "      <td>19</td>\n",
       "      <td>60</td>\n",
       "      <td>135</td>\n",
       "      <td>26.4</td>\n",
       "      <td>108</td>\n",
       "      <td>58</td>\n",
       "      <td>33</td>\n",
       "      <td>40</td>\n",
       "      <td>0.83</td>\n",
       "      <td>1</td>\n",
       "      <td>0</td>\n",
       "    </tr>\n",
       "    <tr>\n",
       "      <th>2</th>\n",
       "      <td>217</td>\n",
       "      <td>75</td>\n",
       "      <td>54</td>\n",
       "      <td>4.0</td>\n",
       "      <td>20</td>\n",
       "      <td>67</td>\n",
       "      <td>187</td>\n",
       "      <td>29.3</td>\n",
       "      <td>110</td>\n",
       "      <td>72</td>\n",
       "      <td>40</td>\n",
       "      <td>45</td>\n",
       "      <td>0.89</td>\n",
       "      <td>1</td>\n",
       "      <td>0</td>\n",
       "    </tr>\n",
       "    <tr>\n",
       "      <th>3</th>\n",
       "      <td>226</td>\n",
       "      <td>97</td>\n",
       "      <td>70</td>\n",
       "      <td>3.2</td>\n",
       "      <td>20</td>\n",
       "      <td>64</td>\n",
       "      <td>114</td>\n",
       "      <td>19.6</td>\n",
       "      <td>122</td>\n",
       "      <td>64</td>\n",
       "      <td>31</td>\n",
       "      <td>39</td>\n",
       "      <td>0.79</td>\n",
       "      <td>1</td>\n",
       "      <td>0</td>\n",
       "    </tr>\n",
       "    <tr>\n",
       "      <th>4</th>\n",
       "      <td>164</td>\n",
       "      <td>91</td>\n",
       "      <td>67</td>\n",
       "      <td>2.4</td>\n",
       "      <td>20</td>\n",
       "      <td>70</td>\n",
       "      <td>141</td>\n",
       "      <td>20.2</td>\n",
       "      <td>122</td>\n",
       "      <td>86</td>\n",
       "      <td>32</td>\n",
       "      <td>39</td>\n",
       "      <td>0.82</td>\n",
       "      <td>1</td>\n",
       "      <td>0</td>\n",
       "    </tr>\n",
       "    <tr>\n",
       "      <th>...</th>\n",
       "      <td>...</td>\n",
       "      <td>...</td>\n",
       "      <td>...</td>\n",
       "      <td>...</td>\n",
       "      <td>...</td>\n",
       "      <td>...</td>\n",
       "      <td>...</td>\n",
       "      <td>...</td>\n",
       "      <td>...</td>\n",
       "      <td>...</td>\n",
       "      <td>...</td>\n",
       "      <td>...</td>\n",
       "      <td>...</td>\n",
       "      <td>...</td>\n",
       "      <td>...</td>\n",
       "    </tr>\n",
       "    <tr>\n",
       "      <th>655</th>\n",
       "      <td>271</td>\n",
       "      <td>353</td>\n",
       "      <td>40</td>\n",
       "      <td>6.690464</td>\n",
       "      <td>65</td>\n",
       "      <td>68</td>\n",
       "      <td>194</td>\n",
       "      <td>29.217936</td>\n",
       "      <td>145</td>\n",
       "      <td>89</td>\n",
       "      <td>40</td>\n",
       "      <td>42</td>\n",
       "      <td>0.946474</td>\n",
       "      <td>0</td>\n",
       "      <td>1</td>\n",
       "    </tr>\n",
       "    <tr>\n",
       "      <th>656</th>\n",
       "      <td>270</td>\n",
       "      <td>129</td>\n",
       "      <td>36</td>\n",
       "      <td>7.552358</td>\n",
       "      <td>44</td>\n",
       "      <td>59</td>\n",
       "      <td>206</td>\n",
       "      <td>41.497979</td>\n",
       "      <td>119</td>\n",
       "      <td>70</td>\n",
       "      <td>41</td>\n",
       "      <td>48</td>\n",
       "      <td>0.864899</td>\n",
       "      <td>1</td>\n",
       "      <td>0</td>\n",
       "    </tr>\n",
       "    <tr>\n",
       "      <th>657</th>\n",
       "      <td>245</td>\n",
       "      <td>119</td>\n",
       "      <td>31</td>\n",
       "      <td>8.165698</td>\n",
       "      <td>40</td>\n",
       "      <td>64</td>\n",
       "      <td>169</td>\n",
       "      <td>28.382389</td>\n",
       "      <td>146</td>\n",
       "      <td>95</td>\n",
       "      <td>36</td>\n",
       "      <td>40</td>\n",
       "      <td>0.887963</td>\n",
       "      <td>0</td>\n",
       "      <td>0</td>\n",
       "    </tr>\n",
       "    <tr>\n",
       "      <th>658</th>\n",
       "      <td>261</td>\n",
       "      <td>208</td>\n",
       "      <td>47</td>\n",
       "      <td>5.581888</td>\n",
       "      <td>68</td>\n",
       "      <td>65</td>\n",
       "      <td>160</td>\n",
       "      <td>26.871236</td>\n",
       "      <td>156</td>\n",
       "      <td>86</td>\n",
       "      <td>34</td>\n",
       "      <td>41</td>\n",
       "      <td>0.844292</td>\n",
       "      <td>0</td>\n",
       "      <td>0</td>\n",
       "    </tr>\n",
       "    <tr>\n",
       "      <th>659</th>\n",
       "      <td>248</td>\n",
       "      <td>197</td>\n",
       "      <td>44</td>\n",
       "      <td>5.620365</td>\n",
       "      <td>64</td>\n",
       "      <td>63</td>\n",
       "      <td>159</td>\n",
       "      <td>28.22746</td>\n",
       "      <td>150</td>\n",
       "      <td>84</td>\n",
       "      <td>33</td>\n",
       "      <td>41</td>\n",
       "      <td>0.800275</td>\n",
       "      <td>1</td>\n",
       "      <td>0</td>\n",
       "    </tr>\n",
       "  </tbody>\n",
       "</table>\n",
       "<p>660 rows × 15 columns</p>\n",
       "</div>"
      ],
      "text/plain": [
       "     cholesterol  glucose  hdl_chol chol_hdl_ratio  age  height  weight  \\\n",
       "0            193       77        49            3.9   19      61     119   \n",
       "1            146       79        41            3.6   19      60     135   \n",
       "2            217       75        54            4.0   20      67     187   \n",
       "3            226       97        70            3.2   20      64     114   \n",
       "4            164       91        67            2.4   20      70     141   \n",
       "..           ...      ...       ...            ...  ...     ...     ...   \n",
       "655          271      353        40       6.690464   65      68     194   \n",
       "656          270      129        36       7.552358   44      59     206   \n",
       "657          245      119        31       8.165698   40      64     169   \n",
       "658          261      208        47       5.581888   68      65     160   \n",
       "659          248      197        44       5.620365   64      63     159   \n",
       "\n",
       "           bmi  systolic_bp  diastolic_bp  waist  hip waist_hip_ratio  \\\n",
       "0         22.5          118            70     32   38            0.84   \n",
       "1         26.4          108            58     33   40            0.83   \n",
       "2         29.3          110            72     40   45            0.89   \n",
       "3         19.6          122            64     31   39            0.79   \n",
       "4         20.2          122            86     32   39            0.82   \n",
       "..         ...          ...           ...    ...  ...             ...   \n",
       "655  29.217936          145            89     40   42        0.946474   \n",
       "656  41.497979          119            70     41   48        0.864899   \n",
       "657  28.382389          146            95     36   40        0.887963   \n",
       "658  26.871236          156            86     34   41        0.844292   \n",
       "659   28.22746          150            84     33   41        0.800275   \n",
       "\n",
       "     gender_female  gender_male  \n",
       "0                1            0  \n",
       "1                1            0  \n",
       "2                1            0  \n",
       "3                1            0  \n",
       "4                1            0  \n",
       "..             ...          ...  \n",
       "655              0            1  \n",
       "656              1            0  \n",
       "657              0            0  \n",
       "658              0            0  \n",
       "659              1            0  \n",
       "\n",
       "[660 rows x 15 columns]"
      ]
     },
     "execution_count": 25,
     "metadata": {},
     "output_type": "execute_result"
    }
   ],
   "source": [
    "X"
   ]
  },
  {
   "cell_type": "code",
   "execution_count": 26,
   "metadata": {},
   "outputs": [
    {
     "data": {
      "text/plain": [
       "(660, 15)"
      ]
     },
     "execution_count": 26,
     "metadata": {},
     "output_type": "execute_result"
    }
   ],
   "source": [
    "X.shape"
   ]
  },
  {
   "cell_type": "markdown",
   "metadata": {},
   "source": [
    "## Normalização dos dados"
   ]
  },
  {
   "cell_type": "code",
   "execution_count": 27,
   "metadata": {},
   "outputs": [],
   "source": [
    "from sklearn.preprocessing import MinMaxScaler\n",
    "\n",
    "# create a scaler object\n",
    "scaler = MinMaxScaler()\n",
    "# fit and transform the data\n",
    "data_normal = pd.DataFrame(scaler.fit_transform(X), columns=X.columns)"
   ]
  },
  {
   "cell_type": "code",
   "execution_count": 28,
   "metadata": {},
   "outputs": [
    {
     "data": {
      "text/html": [
       "<div>\n",
       "<style scoped>\n",
       "    .dataframe tbody tr th:only-of-type {\n",
       "        vertical-align: middle;\n",
       "    }\n",
       "\n",
       "    .dataframe tbody tr th {\n",
       "        vertical-align: top;\n",
       "    }\n",
       "\n",
       "    .dataframe thead th {\n",
       "        text-align: right;\n",
       "    }\n",
       "</style>\n",
       "<table border=\"1\" class=\"dataframe\">\n",
       "  <thead>\n",
       "    <tr style=\"text-align: right;\">\n",
       "      <th></th>\n",
       "      <th>cholesterol</th>\n",
       "      <th>glucose</th>\n",
       "      <th>hdl_chol</th>\n",
       "      <th>chol_hdl_ratio</th>\n",
       "      <th>age</th>\n",
       "      <th>height</th>\n",
       "      <th>weight</th>\n",
       "      <th>bmi</th>\n",
       "      <th>systolic_bp</th>\n",
       "      <th>diastolic_bp</th>\n",
       "      <th>waist</th>\n",
       "      <th>hip</th>\n",
       "      <th>waist_hip_ratio</th>\n",
       "      <th>gender_female</th>\n",
       "      <th>gender_male</th>\n",
       "    </tr>\n",
       "  </thead>\n",
       "  <tbody>\n",
       "    <tr>\n",
       "      <th>0</th>\n",
       "      <td>0.315068</td>\n",
       "      <td>0.086053</td>\n",
       "      <td>0.342593</td>\n",
       "      <td>0.134831</td>\n",
       "      <td>0.000000</td>\n",
       "      <td>0.375000</td>\n",
       "      <td>0.088496</td>\n",
       "      <td>0.179803</td>\n",
       "      <td>0.17500</td>\n",
       "      <td>0.289474</td>\n",
       "      <td>0.200000</td>\n",
       "      <td>0.235294</td>\n",
       "      <td>0.347826</td>\n",
       "      <td>1.0</td>\n",
       "      <td>0.0</td>\n",
       "    </tr>\n",
       "    <tr>\n",
       "      <th>1</th>\n",
       "      <td>0.186301</td>\n",
       "      <td>0.091988</td>\n",
       "      <td>0.268519</td>\n",
       "      <td>0.117978</td>\n",
       "      <td>0.000000</td>\n",
       "      <td>0.333333</td>\n",
       "      <td>0.159292</td>\n",
       "      <td>0.275862</td>\n",
       "      <td>0.11250</td>\n",
       "      <td>0.131579</td>\n",
       "      <td>0.233333</td>\n",
       "      <td>0.294118</td>\n",
       "      <td>0.326087</td>\n",
       "      <td>1.0</td>\n",
       "      <td>0.0</td>\n",
       "    </tr>\n",
       "    <tr>\n",
       "      <th>2</th>\n",
       "      <td>0.380822</td>\n",
       "      <td>0.080119</td>\n",
       "      <td>0.388889</td>\n",
       "      <td>0.140449</td>\n",
       "      <td>0.013699</td>\n",
       "      <td>0.625000</td>\n",
       "      <td>0.389381</td>\n",
       "      <td>0.347291</td>\n",
       "      <td>0.12500</td>\n",
       "      <td>0.315789</td>\n",
       "      <td>0.466667</td>\n",
       "      <td>0.441176</td>\n",
       "      <td>0.456522</td>\n",
       "      <td>1.0</td>\n",
       "      <td>0.0</td>\n",
       "    </tr>\n",
       "    <tr>\n",
       "      <th>3</th>\n",
       "      <td>0.405479</td>\n",
       "      <td>0.145401</td>\n",
       "      <td>0.537037</td>\n",
       "      <td>0.095506</td>\n",
       "      <td>0.013699</td>\n",
       "      <td>0.500000</td>\n",
       "      <td>0.066372</td>\n",
       "      <td>0.108374</td>\n",
       "      <td>0.20000</td>\n",
       "      <td>0.210526</td>\n",
       "      <td>0.166667</td>\n",
       "      <td>0.264706</td>\n",
       "      <td>0.239130</td>\n",
       "      <td>1.0</td>\n",
       "      <td>0.0</td>\n",
       "    </tr>\n",
       "    <tr>\n",
       "      <th>4</th>\n",
       "      <td>0.235616</td>\n",
       "      <td>0.127596</td>\n",
       "      <td>0.509259</td>\n",
       "      <td>0.050562</td>\n",
       "      <td>0.013699</td>\n",
       "      <td>0.750000</td>\n",
       "      <td>0.185841</td>\n",
       "      <td>0.123153</td>\n",
       "      <td>0.20000</td>\n",
       "      <td>0.500000</td>\n",
       "      <td>0.200000</td>\n",
       "      <td>0.264706</td>\n",
       "      <td>0.304348</td>\n",
       "      <td>1.0</td>\n",
       "      <td>0.0</td>\n",
       "    </tr>\n",
       "    <tr>\n",
       "      <th>...</th>\n",
       "      <td>...</td>\n",
       "      <td>...</td>\n",
       "      <td>...</td>\n",
       "      <td>...</td>\n",
       "      <td>...</td>\n",
       "      <td>...</td>\n",
       "      <td>...</td>\n",
       "      <td>...</td>\n",
       "      <td>...</td>\n",
       "      <td>...</td>\n",
       "      <td>...</td>\n",
       "      <td>...</td>\n",
       "      <td>...</td>\n",
       "      <td>...</td>\n",
       "      <td>...</td>\n",
       "    </tr>\n",
       "    <tr>\n",
       "      <th>655</th>\n",
       "      <td>0.528767</td>\n",
       "      <td>0.905045</td>\n",
       "      <td>0.259259</td>\n",
       "      <td>0.291599</td>\n",
       "      <td>0.630137</td>\n",
       "      <td>0.666667</td>\n",
       "      <td>0.420354</td>\n",
       "      <td>0.345269</td>\n",
       "      <td>0.34375</td>\n",
       "      <td>0.539474</td>\n",
       "      <td>0.466667</td>\n",
       "      <td>0.352941</td>\n",
       "      <td>0.579292</td>\n",
       "      <td>0.0</td>\n",
       "      <td>1.0</td>\n",
       "    </tr>\n",
       "    <tr>\n",
       "      <th>656</th>\n",
       "      <td>0.526027</td>\n",
       "      <td>0.240356</td>\n",
       "      <td>0.222222</td>\n",
       "      <td>0.340020</td>\n",
       "      <td>0.342466</td>\n",
       "      <td>0.291667</td>\n",
       "      <td>0.473451</td>\n",
       "      <td>0.647733</td>\n",
       "      <td>0.18125</td>\n",
       "      <td>0.289474</td>\n",
       "      <td>0.500000</td>\n",
       "      <td>0.529412</td>\n",
       "      <td>0.401954</td>\n",
       "      <td>1.0</td>\n",
       "      <td>0.0</td>\n",
       "    </tr>\n",
       "    <tr>\n",
       "      <th>657</th>\n",
       "      <td>0.457534</td>\n",
       "      <td>0.210682</td>\n",
       "      <td>0.175926</td>\n",
       "      <td>0.374477</td>\n",
       "      <td>0.287671</td>\n",
       "      <td>0.500000</td>\n",
       "      <td>0.309735</td>\n",
       "      <td>0.324689</td>\n",
       "      <td>0.35000</td>\n",
       "      <td>0.618421</td>\n",
       "      <td>0.333333</td>\n",
       "      <td>0.294118</td>\n",
       "      <td>0.452094</td>\n",
       "      <td>0.0</td>\n",
       "      <td>0.0</td>\n",
       "    </tr>\n",
       "    <tr>\n",
       "      <th>658</th>\n",
       "      <td>0.501370</td>\n",
       "      <td>0.474777</td>\n",
       "      <td>0.324074</td>\n",
       "      <td>0.229320</td>\n",
       "      <td>0.671233</td>\n",
       "      <td>0.541667</td>\n",
       "      <td>0.269912</td>\n",
       "      <td>0.287469</td>\n",
       "      <td>0.41250</td>\n",
       "      <td>0.500000</td>\n",
       "      <td>0.266667</td>\n",
       "      <td>0.323529</td>\n",
       "      <td>0.357157</td>\n",
       "      <td>0.0</td>\n",
       "      <td>0.0</td>\n",
       "    </tr>\n",
       "    <tr>\n",
       "      <th>659</th>\n",
       "      <td>0.465753</td>\n",
       "      <td>0.442136</td>\n",
       "      <td>0.296296</td>\n",
       "      <td>0.231481</td>\n",
       "      <td>0.616438</td>\n",
       "      <td>0.458333</td>\n",
       "      <td>0.265487</td>\n",
       "      <td>0.320873</td>\n",
       "      <td>0.37500</td>\n",
       "      <td>0.473684</td>\n",
       "      <td>0.233333</td>\n",
       "      <td>0.323529</td>\n",
       "      <td>0.261467</td>\n",
       "      <td>1.0</td>\n",
       "      <td>0.0</td>\n",
       "    </tr>\n",
       "  </tbody>\n",
       "</table>\n",
       "<p>660 rows × 15 columns</p>\n",
       "</div>"
      ],
      "text/plain": [
       "     cholesterol   glucose  hdl_chol  chol_hdl_ratio       age    height  \\\n",
       "0       0.315068  0.086053  0.342593        0.134831  0.000000  0.375000   \n",
       "1       0.186301  0.091988  0.268519        0.117978  0.000000  0.333333   \n",
       "2       0.380822  0.080119  0.388889        0.140449  0.013699  0.625000   \n",
       "3       0.405479  0.145401  0.537037        0.095506  0.013699  0.500000   \n",
       "4       0.235616  0.127596  0.509259        0.050562  0.013699  0.750000   \n",
       "..           ...       ...       ...             ...       ...       ...   \n",
       "655     0.528767  0.905045  0.259259        0.291599  0.630137  0.666667   \n",
       "656     0.526027  0.240356  0.222222        0.340020  0.342466  0.291667   \n",
       "657     0.457534  0.210682  0.175926        0.374477  0.287671  0.500000   \n",
       "658     0.501370  0.474777  0.324074        0.229320  0.671233  0.541667   \n",
       "659     0.465753  0.442136  0.296296        0.231481  0.616438  0.458333   \n",
       "\n",
       "       weight       bmi  systolic_bp  diastolic_bp     waist       hip  \\\n",
       "0    0.088496  0.179803      0.17500      0.289474  0.200000  0.235294   \n",
       "1    0.159292  0.275862      0.11250      0.131579  0.233333  0.294118   \n",
       "2    0.389381  0.347291      0.12500      0.315789  0.466667  0.441176   \n",
       "3    0.066372  0.108374      0.20000      0.210526  0.166667  0.264706   \n",
       "4    0.185841  0.123153      0.20000      0.500000  0.200000  0.264706   \n",
       "..        ...       ...          ...           ...       ...       ...   \n",
       "655  0.420354  0.345269      0.34375      0.539474  0.466667  0.352941   \n",
       "656  0.473451  0.647733      0.18125      0.289474  0.500000  0.529412   \n",
       "657  0.309735  0.324689      0.35000      0.618421  0.333333  0.294118   \n",
       "658  0.269912  0.287469      0.41250      0.500000  0.266667  0.323529   \n",
       "659  0.265487  0.320873      0.37500      0.473684  0.233333  0.323529   \n",
       "\n",
       "     waist_hip_ratio  gender_female  gender_male  \n",
       "0           0.347826            1.0          0.0  \n",
       "1           0.326087            1.0          0.0  \n",
       "2           0.456522            1.0          0.0  \n",
       "3           0.239130            1.0          0.0  \n",
       "4           0.304348            1.0          0.0  \n",
       "..               ...            ...          ...  \n",
       "655         0.579292            0.0          1.0  \n",
       "656         0.401954            1.0          0.0  \n",
       "657         0.452094            0.0          0.0  \n",
       "658         0.357157            0.0          0.0  \n",
       "659         0.261467            1.0          0.0  \n",
       "\n",
       "[660 rows x 15 columns]"
      ]
     },
     "execution_count": 28,
     "metadata": {},
     "output_type": "execute_result"
    }
   ],
   "source": [
    "data_normal"
   ]
  },
  {
   "cell_type": "markdown",
   "metadata": {
    "_cell_guid": "6179a010-0819-481e-8095-72ba1021fdcd",
    "_execution_state": "idle",
    "_uuid": "3edac4b24f82f00d32efe9d812aed40fb06fdbed"
   },
   "source": [
    "# Visualização\n",
    "-- https://mode.com/blog/violin-plot-examples/\n"
   ]
  },
  {
   "cell_type": "code",
   "execution_count": 29,
   "metadata": {},
   "outputs": [],
   "source": [
    "def violin_plot(beginning,end):\n",
    "    dados = pd.concat([y,data_normal.iloc[:,beginning:end]],axis=1)\n",
    "    dados = pd.melt(dados, id_vars='diabetes', var_name=\"features\", value_name='value')\n",
    "    plt.figure(figsize=(10,10))\n",
    "    sns.violinplot(x='features', y='value', hue='diabetes', data=dados, split=True, inner=\"box\")\n",
    "    plt.xticks(rotation=45)"
   ]
  },
  {
   "cell_type": "code",
   "execution_count": 30,
   "metadata": {
    "_uuid": "49718aa097b734a82494eb45998e674301d7982e"
   },
   "outputs": [
    {
     "data": {
      "image/png": "[encoded data removed]",
      "text/plain": [
       "<Figure size 720x720 with 1 Axes>"
      ]
     },
     "metadata": {},
     "output_type": "display_data"
    }
   ],
   "source": [
    "# first ten features\n",
    "violin_plot(0,5)"
   ]
  },
  {
   "cell_type": "code",
   "execution_count": 31,
   "metadata": {
    "_cell_guid": "46ee71d3-93c1-4c2d-bb00-6995f7a1c816",
    "_execution_state": "idle",
    "_uuid": "0a18301387ce26b58a68e5a2d340b39e86c1f5e0"
   },
   "outputs": [
    {
     "data": {
      "image/png": "[encoded data removed]",
      "text/plain": [
       "<Figure size 720x720 with 1 Axes>"
      ]
     },
     "metadata": {},
     "output_type": "display_data"
    }
   ],
   "source": [
    "# Second ten features\n",
    "violin_plot(5,10)"
   ]
  },
  {
   "cell_type": "code",
   "execution_count": 32,
   "metadata": {
    "_cell_guid": "58f17ef1-6530-4db8-bcd9-32691363e8a9",
    "_execution_state": "idle",
    "_uuid": "d1c4e84c3d6bda4b9ff9e284d8c790dd46980c31"
   },
   "outputs": [
    {
     "data": {
      "image/png": "[encoded data removed]",
      "text/plain": [
       "<Figure size 720x720 with 1 Axes>"
      ]
     },
     "metadata": {},
     "output_type": "display_data"
    }
   ],
   "source": [
    "# Third ten features\n",
    "violin_plot(10,15)"
   ]
  },
  {
   "cell_type": "code",
   "execution_count": 33,
   "metadata": {},
   "outputs": [
    {
     "data": {
      "text/plain": [
       "Index(['cholesterol', 'glucose', 'hdl_chol', 'chol_hdl_ratio', 'age', 'height',\n",
       "       'weight', 'bmi', 'systolic_bp', 'diastolic_bp', 'waist', 'hip',\n",
       "       'waist_hip_ratio', 'gender_female', 'gender_male'],\n",
       "      dtype='object')"
      ]
     },
     "execution_count": 33,
     "metadata": {},
     "output_type": "execute_result"
    }
   ],
   "source": [
    "data_normal.columns"
   ]
  },
  {
   "cell_type": "markdown",
   "metadata": {},
   "source": [
    "# Aqui, acho que questão de atualização de pacotes no meu não funcionou o regg com dois g."
   ]
  },
  {
   "cell_type": "code",
   "execution_count": 34,
   "metadata": {
    "_cell_guid": "47880bbb-5dbe-4836-938c-0816a03e8fb4",
    "_execution_state": "idle",
    "_uuid": "859ec665af4be178c3e36b1c2799f44c5ccef901"
   },
   "outputs": [],
   "source": [
    "def joint_plot(feature1, feature2):\n",
    "    \"\"\" I have a FutureWarning on this function, anyone knows how to get rid of it ?\"\"\"\n",
    "    sns.jointplot(data_normal.loc[:,feature1], data_normal.loc[:,feature2], kind=\"reg\", color=\"#ce1414\")"
   ]
  },
  {
   "cell_type": "code",
   "execution_count": 35,
   "metadata": {
    "_uuid": "ba45ef3716e95fb0b3a700d2a52550c7fd9eca97"
   },
   "outputs": [
    {
     "data": {
      "image/png": "[encoded data removed]",
      "text/plain": [
       "<Figure size 432x432 with 3 Axes>"
      ]
     },
     "metadata": {},
     "output_type": "display_data"
    }
   ],
   "source": [
    "joint_plot('hdl_chol','chol_hdl_ratio')\n",
    "#joint_plot(\"radius_worst\",\"smoothness_worst\")"
   ]
  },
  {
   "cell_type": "code",
   "execution_count": 36,
   "metadata": {
    "_uuid": "a1e730025fd8ea5c94f0258137b92701fe62c26b"
   },
   "outputs": [
    {
     "data": {
      "image/png": "[encoded data removed]",
      "text/plain": [
       "<Figure size 432x432 with 3 Axes>"
      ]
     },
     "metadata": {},
     "output_type": "display_data"
    }
   ],
   "source": [
    "joint_plot(\"waist\",\"hip\")"
   ]
  },
  {
   "cell_type": "code",
   "execution_count": 37,
   "metadata": {},
   "outputs": [
    {
     "data": {
      "image/png": "[encoded data removed]",
      "text/plain": [
       "<Figure size 432x432 with 3 Axes>"
      ]
     },
     "metadata": {},
     "output_type": "display_data"
    }
   ],
   "source": [
    "joint_plot('weight','height')"
   ]
  },
  {
   "cell_type": "code",
   "execution_count": 38,
   "metadata": {},
   "outputs": [
    {
     "data": {
      "image/png": "[encoded data removed]",
      "text/plain": [
       "<Figure size 432x432 with 3 Axes>"
      ]
     },
     "metadata": {},
     "output_type": "display_data"
    }
   ],
   "source": [
    "joint_plot('waist','waist_hip_ratio')"
   ]
  },
  {
   "cell_type": "markdown",
   "metadata": {},
   "source": [
    "## Mapa de calor com a correlação entre os atributos"
   ]
  },
  {
   "cell_type": "code",
   "execution_count": 39,
   "metadata": {
    "_cell_guid": "9e1e7d8a-bbf2-4aab-90e7-78d4c4ccf416",
    "_execution_state": "idle",
    "_uuid": "0eeb70ddffc8ac332ee076f2f6b2833a6ffddd2d"
   },
   "outputs": [
    {
     "data": {
      "image/png": "[encoded data removed]",
      "text/plain": [
       "<Figure size 1296x1296 with 2 Axes>"
      ]
     },
     "metadata": {},
     "output_type": "display_data"
    }
   ],
   "source": [
    "#correlation map\n",
    "f,ax = plt.subplots(figsize=(18, 18))\n",
    "ax = sns.heatmap(X.corr(), annot=True, linewidths=.5, fmt= '.1f',ax=ax)"
   ]
  },
  {
   "cell_type": "markdown",
   "metadata": {},
   "source": [
    "# Executando o Random Forest com todos os atributos"
   ]
  },
  {
   "cell_type": "code",
   "execution_count": 40,
   "metadata": {},
   "outputs": [
    {
     "data": {
      "text/html": [
       "<div>\n",
       "<style scoped>\n",
       "    .dataframe tbody tr th:only-of-type {\n",
       "        vertical-align: middle;\n",
       "    }\n",
       "\n",
       "    .dataframe tbody tr th {\n",
       "        vertical-align: top;\n",
       "    }\n",
       "\n",
       "    .dataframe thead th {\n",
       "        text-align: right;\n",
       "    }\n",
       "</style>\n",
       "<table border=\"1\" class=\"dataframe\">\n",
       "  <thead>\n",
       "    <tr style=\"text-align: right;\">\n",
       "      <th></th>\n",
       "      <th>cholesterol</th>\n",
       "      <th>glucose</th>\n",
       "      <th>hdl_chol</th>\n",
       "      <th>chol_hdl_ratio</th>\n",
       "      <th>age</th>\n",
       "      <th>height</th>\n",
       "      <th>weight</th>\n",
       "      <th>bmi</th>\n",
       "      <th>systolic_bp</th>\n",
       "      <th>diastolic_bp</th>\n",
       "      <th>waist</th>\n",
       "      <th>hip</th>\n",
       "      <th>waist_hip_ratio</th>\n",
       "      <th>gender_female</th>\n",
       "      <th>gender_male</th>\n",
       "    </tr>\n",
       "  </thead>\n",
       "  <tbody>\n",
       "    <tr>\n",
       "      <th>0</th>\n",
       "      <td>0.315068</td>\n",
       "      <td>0.086053</td>\n",
       "      <td>0.342593</td>\n",
       "      <td>0.134831</td>\n",
       "      <td>0.000000</td>\n",
       "      <td>0.375000</td>\n",
       "      <td>0.088496</td>\n",
       "      <td>0.179803</td>\n",
       "      <td>0.17500</td>\n",
       "      <td>0.289474</td>\n",
       "      <td>0.200000</td>\n",
       "      <td>0.235294</td>\n",
       "      <td>0.347826</td>\n",
       "      <td>1.0</td>\n",
       "      <td>0.0</td>\n",
       "    </tr>\n",
       "    <tr>\n",
       "      <th>1</th>\n",
       "      <td>0.186301</td>\n",
       "      <td>0.091988</td>\n",
       "      <td>0.268519</td>\n",
       "      <td>0.117978</td>\n",
       "      <td>0.000000</td>\n",
       "      <td>0.333333</td>\n",
       "      <td>0.159292</td>\n",
       "      <td>0.275862</td>\n",
       "      <td>0.11250</td>\n",
       "      <td>0.131579</td>\n",
       "      <td>0.233333</td>\n",
       "      <td>0.294118</td>\n",
       "      <td>0.326087</td>\n",
       "      <td>1.0</td>\n",
       "      <td>0.0</td>\n",
       "    </tr>\n",
       "    <tr>\n",
       "      <th>2</th>\n",
       "      <td>0.380822</td>\n",
       "      <td>0.080119</td>\n",
       "      <td>0.388889</td>\n",
       "      <td>0.140449</td>\n",
       "      <td>0.013699</td>\n",
       "      <td>0.625000</td>\n",
       "      <td>0.389381</td>\n",
       "      <td>0.347291</td>\n",
       "      <td>0.12500</td>\n",
       "      <td>0.315789</td>\n",
       "      <td>0.466667</td>\n",
       "      <td>0.441176</td>\n",
       "      <td>0.456522</td>\n",
       "      <td>1.0</td>\n",
       "      <td>0.0</td>\n",
       "    </tr>\n",
       "    <tr>\n",
       "      <th>3</th>\n",
       "      <td>0.405479</td>\n",
       "      <td>0.145401</td>\n",
       "      <td>0.537037</td>\n",
       "      <td>0.095506</td>\n",
       "      <td>0.013699</td>\n",
       "      <td>0.500000</td>\n",
       "      <td>0.066372</td>\n",
       "      <td>0.108374</td>\n",
       "      <td>0.20000</td>\n",
       "      <td>0.210526</td>\n",
       "      <td>0.166667</td>\n",
       "      <td>0.264706</td>\n",
       "      <td>0.239130</td>\n",
       "      <td>1.0</td>\n",
       "      <td>0.0</td>\n",
       "    </tr>\n",
       "    <tr>\n",
       "      <th>4</th>\n",
       "      <td>0.235616</td>\n",
       "      <td>0.127596</td>\n",
       "      <td>0.509259</td>\n",
       "      <td>0.050562</td>\n",
       "      <td>0.013699</td>\n",
       "      <td>0.750000</td>\n",
       "      <td>0.185841</td>\n",
       "      <td>0.123153</td>\n",
       "      <td>0.20000</td>\n",
       "      <td>0.500000</td>\n",
       "      <td>0.200000</td>\n",
       "      <td>0.264706</td>\n",
       "      <td>0.304348</td>\n",
       "      <td>1.0</td>\n",
       "      <td>0.0</td>\n",
       "    </tr>\n",
       "    <tr>\n",
       "      <th>...</th>\n",
       "      <td>...</td>\n",
       "      <td>...</td>\n",
       "      <td>...</td>\n",
       "      <td>...</td>\n",
       "      <td>...</td>\n",
       "      <td>...</td>\n",
       "      <td>...</td>\n",
       "      <td>...</td>\n",
       "      <td>...</td>\n",
       "      <td>...</td>\n",
       "      <td>...</td>\n",
       "      <td>...</td>\n",
       "      <td>...</td>\n",
       "      <td>...</td>\n",
       "      <td>...</td>\n",
       "    </tr>\n",
       "    <tr>\n",
       "      <th>655</th>\n",
       "      <td>0.528767</td>\n",
       "      <td>0.905045</td>\n",
       "      <td>0.259259</td>\n",
       "      <td>0.291599</td>\n",
       "      <td>0.630137</td>\n",
       "      <td>0.666667</td>\n",
       "      <td>0.420354</td>\n",
       "      <td>0.345269</td>\n",
       "      <td>0.34375</td>\n",
       "      <td>0.539474</td>\n",
       "      <td>0.466667</td>\n",
       "      <td>0.352941</td>\n",
       "      <td>0.579292</td>\n",
       "      <td>0.0</td>\n",
       "      <td>1.0</td>\n",
       "    </tr>\n",
       "    <tr>\n",
       "      <th>656</th>\n",
       "      <td>0.526027</td>\n",
       "      <td>0.240356</td>\n",
       "      <td>0.222222</td>\n",
       "      <td>0.340020</td>\n",
       "      <td>0.342466</td>\n",
       "      <td>0.291667</td>\n",
       "      <td>0.473451</td>\n",
       "      <td>0.647733</td>\n",
       "      <td>0.18125</td>\n",
       "      <td>0.289474</td>\n",
       "      <td>0.500000</td>\n",
       "      <td>0.529412</td>\n",
       "      <td>0.401954</td>\n",
       "      <td>1.0</td>\n",
       "      <td>0.0</td>\n",
       "    </tr>\n",
       "    <tr>\n",
       "      <th>657</th>\n",
       "      <td>0.457534</td>\n",
       "      <td>0.210682</td>\n",
       "      <td>0.175926</td>\n",
       "      <td>0.374477</td>\n",
       "      <td>0.287671</td>\n",
       "      <td>0.500000</td>\n",
       "      <td>0.309735</td>\n",
       "      <td>0.324689</td>\n",
       "      <td>0.35000</td>\n",
       "      <td>0.618421</td>\n",
       "      <td>0.333333</td>\n",
       "      <td>0.294118</td>\n",
       "      <td>0.452094</td>\n",
       "      <td>0.0</td>\n",
       "      <td>0.0</td>\n",
       "    </tr>\n",
       "    <tr>\n",
       "      <th>658</th>\n",
       "      <td>0.501370</td>\n",
       "      <td>0.474777</td>\n",
       "      <td>0.324074</td>\n",
       "      <td>0.229320</td>\n",
       "      <td>0.671233</td>\n",
       "      <td>0.541667</td>\n",
       "      <td>0.269912</td>\n",
       "      <td>0.287469</td>\n",
       "      <td>0.41250</td>\n",
       "      <td>0.500000</td>\n",
       "      <td>0.266667</td>\n",
       "      <td>0.323529</td>\n",
       "      <td>0.357157</td>\n",
       "      <td>0.0</td>\n",
       "      <td>0.0</td>\n",
       "    </tr>\n",
       "    <tr>\n",
       "      <th>659</th>\n",
       "      <td>0.465753</td>\n",
       "      <td>0.442136</td>\n",
       "      <td>0.296296</td>\n",
       "      <td>0.231481</td>\n",
       "      <td>0.616438</td>\n",
       "      <td>0.458333</td>\n",
       "      <td>0.265487</td>\n",
       "      <td>0.320873</td>\n",
       "      <td>0.37500</td>\n",
       "      <td>0.473684</td>\n",
       "      <td>0.233333</td>\n",
       "      <td>0.323529</td>\n",
       "      <td>0.261467</td>\n",
       "      <td>1.0</td>\n",
       "      <td>0.0</td>\n",
       "    </tr>\n",
       "  </tbody>\n",
       "</table>\n",
       "<p>660 rows × 15 columns</p>\n",
       "</div>"
      ],
      "text/plain": [
       "     cholesterol   glucose  hdl_chol  chol_hdl_ratio       age    height  \\\n",
       "0       0.315068  0.086053  0.342593        0.134831  0.000000  0.375000   \n",
       "1       0.186301  0.091988  0.268519        0.117978  0.000000  0.333333   \n",
       "2       0.380822  0.080119  0.388889        0.140449  0.013699  0.625000   \n",
       "3       0.405479  0.145401  0.537037        0.095506  0.013699  0.500000   \n",
       "4       0.235616  0.127596  0.509259        0.050562  0.013699  0.750000   \n",
       "..           ...       ...       ...             ...       ...       ...   \n",
       "655     0.528767  0.905045  0.259259        0.291599  0.630137  0.666667   \n",
       "656     0.526027  0.240356  0.222222        0.340020  0.342466  0.291667   \n",
       "657     0.457534  0.210682  0.175926        0.374477  0.287671  0.500000   \n",
       "658     0.501370  0.474777  0.324074        0.229320  0.671233  0.541667   \n",
       "659     0.465753  0.442136  0.296296        0.231481  0.616438  0.458333   \n",
       "\n",
       "       weight       bmi  systolic_bp  diastolic_bp     waist       hip  \\\n",
       "0    0.088496  0.179803      0.17500      0.289474  0.200000  0.235294   \n",
       "1    0.159292  0.275862      0.11250      0.131579  0.233333  0.294118   \n",
       "2    0.389381  0.347291      0.12500      0.315789  0.466667  0.441176   \n",
       "3    0.066372  0.108374      0.20000      0.210526  0.166667  0.264706   \n",
       "4    0.185841  0.123153      0.20000      0.500000  0.200000  0.264706   \n",
       "..        ...       ...          ...           ...       ...       ...   \n",
       "655  0.420354  0.345269      0.34375      0.539474  0.466667  0.352941   \n",
       "656  0.473451  0.647733      0.18125      0.289474  0.500000  0.529412   \n",
       "657  0.309735  0.324689      0.35000      0.618421  0.333333  0.294118   \n",
       "658  0.269912  0.287469      0.41250      0.500000  0.266667  0.323529   \n",
       "659  0.265487  0.320873      0.37500      0.473684  0.233333  0.323529   \n",
       "\n",
       "     waist_hip_ratio  gender_female  gender_male  \n",
       "0           0.347826            1.0          0.0  \n",
       "1           0.326087            1.0          0.0  \n",
       "2           0.456522            1.0          0.0  \n",
       "3           0.239130            1.0          0.0  \n",
       "4           0.304348            1.0          0.0  \n",
       "..               ...            ...          ...  \n",
       "655         0.579292            0.0          1.0  \n",
       "656         0.401954            1.0          0.0  \n",
       "657         0.452094            0.0          0.0  \n",
       "658         0.357157            0.0          0.0  \n",
       "659         0.261467            1.0          0.0  \n",
       "\n",
       "[660 rows x 15 columns]"
      ]
     },
     "metadata": {},
     "output_type": "display_data"
    }
   ],
   "source": [
    "display(data_normal)"
   ]
  },
  {
   "cell_type": "code",
   "execution_count": 41,
   "metadata": {
    "_cell_guid": "111af932-96f8-4105-8deb-ba1172edd203",
    "_execution_state": "idle",
    "_uuid": "c7a6af60a44959f81593d788934a49c9259d8b43"
   },
   "outputs": [
    {
     "name": "stdout",
     "output_type": "stream",
     "text": [
      "Recall is:  1.0\n",
      "Accuracy is:  0.9696969696969697\n",
      "F1 score is:  0.9662921348314606\n"
     ]
    },
    {
     "data": {
      "image/png": "[encoded data removed]",
      "text/plain": [
       "<Figure size 432x288 with 2 Axes>"
      ]
     },
     "metadata": {},
     "output_type": "display_data"
    }
   ],
   "source": [
    "from sklearn.model_selection import train_test_split\n",
    "from sklearn.ensemble import RandomForestClassifier\n",
    "from sklearn.metrics import f1_score, confusion_matrix\n",
    "from sklearn.metrics import accuracy_score, recall_score,classification_report\n",
    "from sklearn.preprocessing import LabelEncoder\n",
    "\n",
    "#Binary format, with B=0 and M=1\n",
    "#y = y.replace(\"B\", 0)\n",
    "#y = y.replace(\"M\", 1)\n",
    "\n",
    "# Para obter as classes como inteiros, utilizamos\n",
    "# a classe LabelEncoder da scikit-learn\n",
    "\n",
    "# split data train 70 % and test 30 %\n",
    "x_train, x_test, y_train, y_test = train_test_split(data_normal, y, test_size=0.3, random_state=42)\n",
    "\n",
    "#random forest classifier with n_estimators=10 (default)\n",
    "clf_rf = RandomForestClassifier(random_state=43)      \n",
    "clr_rf = clf_rf.fit(x_train,y_train)\n",
    "\n",
    "recall = recall_score(y_test,clf_rf.predict(x_test))\n",
    "print('Recall is: ', recall)\n",
    "accuracy = accuracy_score(y_test,clf_rf.predict(x_test))\n",
    "print('Accuracy is: ', accuracy)\n",
    "f1 = f1_score(y_test,clf_rf.predict(x_test))\n",
    "print('F1 score is: ', f1)\n",
    "cm = confusion_matrix(y_test,clf_rf.predict(x_test))\n",
    "ax = sns.heatmap(cm,annot=True,fmt=\"d\")"
   ]
  },
  {
   "cell_type": "code",
   "execution_count": 42,
   "metadata": {},
   "outputs": [
    {
     "name": "stdout",
     "output_type": "stream",
     "text": [
      "              precision    recall  f1-score   support\n",
      "\n",
      "           0       1.00      0.95      0.97       112\n",
      "           1       0.93      1.00      0.97        86\n",
      "\n",
      "    accuracy                           0.97       198\n",
      "   macro avg       0.97      0.97      0.97       198\n",
      "weighted avg       0.97      0.97      0.97       198\n",
      "\n"
     ]
    }
   ],
   "source": [
    "#Eu inseri esse\n",
    "#print(classification_report(y_test, y_pred_class))\n",
    "print(classification_report(y_test, clf_rf.predict(x_test)))"
   ]
  },
  {
   "cell_type": "markdown",
   "metadata": {
    "_cell_guid": "6786734a-40a9-46b6-a13a-97ee9c569636",
    "_execution_state": "idle",
    "_uuid": "84b145dd0c13a3a0d4dd4f9b9fd1bd782e11fcf8"
   },
   "source": [
    "# Seleção de características e Aprendizado de Máquina\n"
   ]
  },
  {
   "cell_type": "markdown",
   "metadata": {
    "_cell_guid": "c7b2df4e-270e-4c94-8789-177f5e90ac46",
    "_execution_state": "idle",
    "_uuid": "a042df90ef7138d6f101463e93936119176bdc0d"
   },
   "source": [
    "Nesta seção, selecionaremos recursos com métodos diferentes que são seleção de recursos com correlação, eliminação de recurso recursivo (RFE) e eliminação de recurso recursivo com validação cruzada (RFECV). Usaremos a classificação Random Forest para treinar nosso modelo. "
   ]
  },
  {
   "cell_type": "markdown",
   "metadata": {
    "_cell_guid": "94d217e3-b2b3-4016-b72e-f8d521d17af7",
    "_execution_state": "idle",
    "_uuid": "39003c7b75f265bf0826f407433e65923c4dd017"
   },
   "source": [
    "## 1) Feature Selection with correlation and Random Forest classification"
   ]
  },
  {
   "cell_type": "markdown",
   "metadata": {
    "_cell_guid": "eea2971b-b703-4e1b-b048-128501506f33",
    "_execution_state": "idle",
    "_uuid": "acde9c0b406d72122473f8292d641a9fcb8a8682"
   },
   "source": [
    "**height,waist e hib** are correlated -> I choose **height**.\n",
    "**hdl_chol,chol_hdl_ratio** are correlated negative ->  I choose **chol_hdl_ratio**."
   ]
  },
  {
   "cell_type": "code",
   "execution_count": 43,
   "metadata": {
    "_cell_guid": "ef8d06df-bfcc-4e9a-a3ba-5016ec0c5bd5",
    "_execution_state": "idle",
    "_uuid": "117f3e858e806f3f26a68dadf3fc89d471010156"
   },
   "outputs": [
    {
     "data": {
      "text/html": [
       "<div>\n",
       "<style scoped>\n",
       "    .dataframe tbody tr th:only-of-type {\n",
       "        vertical-align: middle;\n",
       "    }\n",
       "\n",
       "    .dataframe tbody tr th {\n",
       "        vertical-align: top;\n",
       "    }\n",
       "\n",
       "    .dataframe thead th {\n",
       "        text-align: right;\n",
       "    }\n",
       "</style>\n",
       "<table border=\"1\" class=\"dataframe\">\n",
       "  <thead>\n",
       "    <tr style=\"text-align: right;\">\n",
       "      <th></th>\n",
       "      <th>cholesterol</th>\n",
       "      <th>glucose</th>\n",
       "      <th>chol_hdl_ratio</th>\n",
       "      <th>age</th>\n",
       "      <th>height</th>\n",
       "      <th>weight</th>\n",
       "      <th>bmi</th>\n",
       "      <th>systolic_bp</th>\n",
       "      <th>diastolic_bp</th>\n",
       "      <th>waist_hip_ratio</th>\n",
       "      <th>gender_female</th>\n",
       "      <th>gender_male</th>\n",
       "    </tr>\n",
       "  </thead>\n",
       "  <tbody>\n",
       "    <tr>\n",
       "      <th>0</th>\n",
       "      <td>193</td>\n",
       "      <td>77</td>\n",
       "      <td>3.9</td>\n",
       "      <td>19</td>\n",
       "      <td>61</td>\n",
       "      <td>119</td>\n",
       "      <td>22.5</td>\n",
       "      <td>118</td>\n",
       "      <td>70</td>\n",
       "      <td>0.84</td>\n",
       "      <td>1</td>\n",
       "      <td>0</td>\n",
       "    </tr>\n",
       "    <tr>\n",
       "      <th>1</th>\n",
       "      <td>146</td>\n",
       "      <td>79</td>\n",
       "      <td>3.6</td>\n",
       "      <td>19</td>\n",
       "      <td>60</td>\n",
       "      <td>135</td>\n",
       "      <td>26.4</td>\n",
       "      <td>108</td>\n",
       "      <td>58</td>\n",
       "      <td>0.83</td>\n",
       "      <td>1</td>\n",
       "      <td>0</td>\n",
       "    </tr>\n",
       "    <tr>\n",
       "      <th>2</th>\n",
       "      <td>217</td>\n",
       "      <td>75</td>\n",
       "      <td>4.0</td>\n",
       "      <td>20</td>\n",
       "      <td>67</td>\n",
       "      <td>187</td>\n",
       "      <td>29.3</td>\n",
       "      <td>110</td>\n",
       "      <td>72</td>\n",
       "      <td>0.89</td>\n",
       "      <td>1</td>\n",
       "      <td>0</td>\n",
       "    </tr>\n",
       "    <tr>\n",
       "      <th>3</th>\n",
       "      <td>226</td>\n",
       "      <td>97</td>\n",
       "      <td>3.2</td>\n",
       "      <td>20</td>\n",
       "      <td>64</td>\n",
       "      <td>114</td>\n",
       "      <td>19.6</td>\n",
       "      <td>122</td>\n",
       "      <td>64</td>\n",
       "      <td>0.79</td>\n",
       "      <td>1</td>\n",
       "      <td>0</td>\n",
       "    </tr>\n",
       "    <tr>\n",
       "      <th>4</th>\n",
       "      <td>164</td>\n",
       "      <td>91</td>\n",
       "      <td>2.4</td>\n",
       "      <td>20</td>\n",
       "      <td>70</td>\n",
       "      <td>141</td>\n",
       "      <td>20.2</td>\n",
       "      <td>122</td>\n",
       "      <td>86</td>\n",
       "      <td>0.82</td>\n",
       "      <td>1</td>\n",
       "      <td>0</td>\n",
       "    </tr>\n",
       "  </tbody>\n",
       "</table>\n",
       "</div>"
      ],
      "text/plain": [
       "   cholesterol  glucose chol_hdl_ratio  age  height  weight   bmi  \\\n",
       "0          193       77            3.9   19      61     119  22.5   \n",
       "1          146       79            3.6   19      60     135  26.4   \n",
       "2          217       75            4.0   20      67     187  29.3   \n",
       "3          226       97            3.2   20      64     114  19.6   \n",
       "4          164       91            2.4   20      70     141  20.2   \n",
       "\n",
       "   systolic_bp  diastolic_bp waist_hip_ratio  gender_female  gender_male  \n",
       "0          118            70            0.84              1            0  \n",
       "1          108            58            0.83              1            0  \n",
       "2          110            72            0.89              1            0  \n",
       "3          122            64            0.79              1            0  \n",
       "4          122            86            0.82              1            0  "
      ]
     },
     "execution_count": 43,
     "metadata": {},
     "output_type": "execute_result"
    }
   ],
   "source": [
    "drop_list = ['waist','hip','hdl_chol']\n",
    "x_1 = X.drop(drop_list,axis = 1 )        # do not modify x, we will use it later \n",
    "x_1.head()"
   ]
  },
  {
   "cell_type": "code",
   "execution_count": 44,
   "metadata": {
    "_cell_guid": "733f0784-4a3f-410c-a220-f98591825f2e",
    "_execution_state": "idle",
    "_uuid": "eec5424039036e1af43ba0795b76393805308f97"
   },
   "outputs": [
    {
     "data": {
      "image/png": "[encoded data removed]",
      "text/plain": [
       "<Figure size 1008x1008 with 2 Axes>"
      ]
     },
     "metadata": {},
     "output_type": "display_data"
    }
   ],
   "source": [
    "#correlation map\n",
    "f,ax = plt.subplots(figsize=(14, 14))\n",
    "ax = sns.heatmap(x_1.corr(), annot=True, linewidths=.5, fmt= '.1f',ax=ax)"
   ]
  },
  {
   "cell_type": "code",
   "execution_count": 45,
   "metadata": {},
   "outputs": [
    {
     "name": "stdout",
     "output_type": "stream",
     "text": [
      "Recall is:  1.0\n",
      "Accuracy is:  0.9696969696969697\n",
      "F1 score is:  0.9662921348314606\n"
     ]
    },
    {
     "data": {
      "image/png": "[encoded data removed]",
      "text/plain": [
       "<Figure size 432x288 with 2 Axes>"
      ]
     },
     "metadata": {},
     "output_type": "display_data"
    }
   ],
   "source": [
    "x_train, x_test, y_train, y_test = train_test_split(x_1, y, test_size=0.3, random_state=42)\n",
    "\n",
    "#random forest classifier with n_estimators=10 (default)\n",
    "clf_rf = RandomForestClassifier(random_state=42)      \n",
    "clr_rf = clf_rf.fit(x_train,y_train)\n",
    "\n",
    "recall = recall_score(y_test,clf_rf.predict(x_test))\n",
    "print('Recall is: ', recall)\n",
    "accuracy = accuracy_score(y_test,clf_rf.predict(x_test))\n",
    "print('Accuracy is: ', accuracy)\n",
    "f1 = f1_score(y_test,clf_rf.predict(x_test))\n",
    "print('F1 score is: ', f1)\n",
    "cm = confusion_matrix(y_test,clf_rf.predict(x_test))\n",
    "ax = sns.heatmap(cm,annot=True,fmt=\"d\")"
   ]
  },
  {
   "cell_type": "markdown",
   "metadata": {
    "_cell_guid": "702ad2b3-5b12-4d15-93b1-e7d62dfd1040",
    "_execution_state": "idle",
    "_uuid": "7a3c3050dd9d694e52962c7c712b1ea16aab6fdf"
   },
   "source": [
    "## 2) Recursive feature elimination (RFE) with Random Forest \n",
    "RFE usa um dos métodos de classificação (floresta aleatória) que atribui pesos a cada recurso. Os menores pesos são removidos do conjunto atual de recursos. Esse procedimento é repetido recursivamente no conjunto podado até que o número desejado de recursos seja alcançado."
   ]
  },
  {
   "cell_type": "code",
   "execution_count": 46,
   "metadata": {},
   "outputs": [
    {
     "data": {
      "text/html": [
       "<div>\n",
       "<style scoped>\n",
       "    .dataframe tbody tr th:only-of-type {\n",
       "        vertical-align: middle;\n",
       "    }\n",
       "\n",
       "    .dataframe tbody tr th {\n",
       "        vertical-align: top;\n",
       "    }\n",
       "\n",
       "    .dataframe thead th {\n",
       "        text-align: right;\n",
       "    }\n",
       "</style>\n",
       "<table border=\"1\" class=\"dataframe\">\n",
       "  <thead>\n",
       "    <tr style=\"text-align: right;\">\n",
       "      <th></th>\n",
       "      <th>cholesterol</th>\n",
       "      <th>glucose</th>\n",
       "      <th>hdl_chol</th>\n",
       "      <th>chol_hdl_ratio</th>\n",
       "      <th>age</th>\n",
       "      <th>height</th>\n",
       "      <th>weight</th>\n",
       "      <th>bmi</th>\n",
       "      <th>systolic_bp</th>\n",
       "      <th>diastolic_bp</th>\n",
       "      <th>waist</th>\n",
       "      <th>hip</th>\n",
       "      <th>waist_hip_ratio</th>\n",
       "      <th>gender_female</th>\n",
       "      <th>gender_male</th>\n",
       "    </tr>\n",
       "  </thead>\n",
       "  <tbody>\n",
       "    <tr>\n",
       "      <th>0</th>\n",
       "      <td>0.315068</td>\n",
       "      <td>0.086053</td>\n",
       "      <td>0.342593</td>\n",
       "      <td>0.134831</td>\n",
       "      <td>0.000000</td>\n",
       "      <td>0.375000</td>\n",
       "      <td>0.088496</td>\n",
       "      <td>0.179803</td>\n",
       "      <td>0.17500</td>\n",
       "      <td>0.289474</td>\n",
       "      <td>0.200000</td>\n",
       "      <td>0.235294</td>\n",
       "      <td>0.347826</td>\n",
       "      <td>1.0</td>\n",
       "      <td>0.0</td>\n",
       "    </tr>\n",
       "    <tr>\n",
       "      <th>1</th>\n",
       "      <td>0.186301</td>\n",
       "      <td>0.091988</td>\n",
       "      <td>0.268519</td>\n",
       "      <td>0.117978</td>\n",
       "      <td>0.000000</td>\n",
       "      <td>0.333333</td>\n",
       "      <td>0.159292</td>\n",
       "      <td>0.275862</td>\n",
       "      <td>0.11250</td>\n",
       "      <td>0.131579</td>\n",
       "      <td>0.233333</td>\n",
       "      <td>0.294118</td>\n",
       "      <td>0.326087</td>\n",
       "      <td>1.0</td>\n",
       "      <td>0.0</td>\n",
       "    </tr>\n",
       "    <tr>\n",
       "      <th>2</th>\n",
       "      <td>0.380822</td>\n",
       "      <td>0.080119</td>\n",
       "      <td>0.388889</td>\n",
       "      <td>0.140449</td>\n",
       "      <td>0.013699</td>\n",
       "      <td>0.625000</td>\n",
       "      <td>0.389381</td>\n",
       "      <td>0.347291</td>\n",
       "      <td>0.12500</td>\n",
       "      <td>0.315789</td>\n",
       "      <td>0.466667</td>\n",
       "      <td>0.441176</td>\n",
       "      <td>0.456522</td>\n",
       "      <td>1.0</td>\n",
       "      <td>0.0</td>\n",
       "    </tr>\n",
       "    <tr>\n",
       "      <th>3</th>\n",
       "      <td>0.405479</td>\n",
       "      <td>0.145401</td>\n",
       "      <td>0.537037</td>\n",
       "      <td>0.095506</td>\n",
       "      <td>0.013699</td>\n",
       "      <td>0.500000</td>\n",
       "      <td>0.066372</td>\n",
       "      <td>0.108374</td>\n",
       "      <td>0.20000</td>\n",
       "      <td>0.210526</td>\n",
       "      <td>0.166667</td>\n",
       "      <td>0.264706</td>\n",
       "      <td>0.239130</td>\n",
       "      <td>1.0</td>\n",
       "      <td>0.0</td>\n",
       "    </tr>\n",
       "    <tr>\n",
       "      <th>4</th>\n",
       "      <td>0.235616</td>\n",
       "      <td>0.127596</td>\n",
       "      <td>0.509259</td>\n",
       "      <td>0.050562</td>\n",
       "      <td>0.013699</td>\n",
       "      <td>0.750000</td>\n",
       "      <td>0.185841</td>\n",
       "      <td>0.123153</td>\n",
       "      <td>0.20000</td>\n",
       "      <td>0.500000</td>\n",
       "      <td>0.200000</td>\n",
       "      <td>0.264706</td>\n",
       "      <td>0.304348</td>\n",
       "      <td>1.0</td>\n",
       "      <td>0.0</td>\n",
       "    </tr>\n",
       "    <tr>\n",
       "      <th>...</th>\n",
       "      <td>...</td>\n",
       "      <td>...</td>\n",
       "      <td>...</td>\n",
       "      <td>...</td>\n",
       "      <td>...</td>\n",
       "      <td>...</td>\n",
       "      <td>...</td>\n",
       "      <td>...</td>\n",
       "      <td>...</td>\n",
       "      <td>...</td>\n",
       "      <td>...</td>\n",
       "      <td>...</td>\n",
       "      <td>...</td>\n",
       "      <td>...</td>\n",
       "      <td>...</td>\n",
       "    </tr>\n",
       "    <tr>\n",
       "      <th>655</th>\n",
       "      <td>0.528767</td>\n",
       "      <td>0.905045</td>\n",
       "      <td>0.259259</td>\n",
       "      <td>0.291599</td>\n",
       "      <td>0.630137</td>\n",
       "      <td>0.666667</td>\n",
       "      <td>0.420354</td>\n",
       "      <td>0.345269</td>\n",
       "      <td>0.34375</td>\n",
       "      <td>0.539474</td>\n",
       "      <td>0.466667</td>\n",
       "      <td>0.352941</td>\n",
       "      <td>0.579292</td>\n",
       "      <td>0.0</td>\n",
       "      <td>1.0</td>\n",
       "    </tr>\n",
       "    <tr>\n",
       "      <th>656</th>\n",
       "      <td>0.526027</td>\n",
       "      <td>0.240356</td>\n",
       "      <td>0.222222</td>\n",
       "      <td>0.340020</td>\n",
       "      <td>0.342466</td>\n",
       "      <td>0.291667</td>\n",
       "      <td>0.473451</td>\n",
       "      <td>0.647733</td>\n",
       "      <td>0.18125</td>\n",
       "      <td>0.289474</td>\n",
       "      <td>0.500000</td>\n",
       "      <td>0.529412</td>\n",
       "      <td>0.401954</td>\n",
       "      <td>1.0</td>\n",
       "      <td>0.0</td>\n",
       "    </tr>\n",
       "    <tr>\n",
       "      <th>657</th>\n",
       "      <td>0.457534</td>\n",
       "      <td>0.210682</td>\n",
       "      <td>0.175926</td>\n",
       "      <td>0.374477</td>\n",
       "      <td>0.287671</td>\n",
       "      <td>0.500000</td>\n",
       "      <td>0.309735</td>\n",
       "      <td>0.324689</td>\n",
       "      <td>0.35000</td>\n",
       "      <td>0.618421</td>\n",
       "      <td>0.333333</td>\n",
       "      <td>0.294118</td>\n",
       "      <td>0.452094</td>\n",
       "      <td>0.0</td>\n",
       "      <td>0.0</td>\n",
       "    </tr>\n",
       "    <tr>\n",
       "      <th>658</th>\n",
       "      <td>0.501370</td>\n",
       "      <td>0.474777</td>\n",
       "      <td>0.324074</td>\n",
       "      <td>0.229320</td>\n",
       "      <td>0.671233</td>\n",
       "      <td>0.541667</td>\n",
       "      <td>0.269912</td>\n",
       "      <td>0.287469</td>\n",
       "      <td>0.41250</td>\n",
       "      <td>0.500000</td>\n",
       "      <td>0.266667</td>\n",
       "      <td>0.323529</td>\n",
       "      <td>0.357157</td>\n",
       "      <td>0.0</td>\n",
       "      <td>0.0</td>\n",
       "    </tr>\n",
       "    <tr>\n",
       "      <th>659</th>\n",
       "      <td>0.465753</td>\n",
       "      <td>0.442136</td>\n",
       "      <td>0.296296</td>\n",
       "      <td>0.231481</td>\n",
       "      <td>0.616438</td>\n",
       "      <td>0.458333</td>\n",
       "      <td>0.265487</td>\n",
       "      <td>0.320873</td>\n",
       "      <td>0.37500</td>\n",
       "      <td>0.473684</td>\n",
       "      <td>0.233333</td>\n",
       "      <td>0.323529</td>\n",
       "      <td>0.261467</td>\n",
       "      <td>1.0</td>\n",
       "      <td>0.0</td>\n",
       "    </tr>\n",
       "  </tbody>\n",
       "</table>\n",
       "<p>660 rows × 15 columns</p>\n",
       "</div>"
      ],
      "text/plain": [
       "     cholesterol   glucose  hdl_chol  chol_hdl_ratio       age    height  \\\n",
       "0       0.315068  0.086053  0.342593        0.134831  0.000000  0.375000   \n",
       "1       0.186301  0.091988  0.268519        0.117978  0.000000  0.333333   \n",
       "2       0.380822  0.080119  0.388889        0.140449  0.013699  0.625000   \n",
       "3       0.405479  0.145401  0.537037        0.095506  0.013699  0.500000   \n",
       "4       0.235616  0.127596  0.509259        0.050562  0.013699  0.750000   \n",
       "..           ...       ...       ...             ...       ...       ...   \n",
       "655     0.528767  0.905045  0.259259        0.291599  0.630137  0.666667   \n",
       "656     0.526027  0.240356  0.222222        0.340020  0.342466  0.291667   \n",
       "657     0.457534  0.210682  0.175926        0.374477  0.287671  0.500000   \n",
       "658     0.501370  0.474777  0.324074        0.229320  0.671233  0.541667   \n",
       "659     0.465753  0.442136  0.296296        0.231481  0.616438  0.458333   \n",
       "\n",
       "       weight       bmi  systolic_bp  diastolic_bp     waist       hip  \\\n",
       "0    0.088496  0.179803      0.17500      0.289474  0.200000  0.235294   \n",
       "1    0.159292  0.275862      0.11250      0.131579  0.233333  0.294118   \n",
       "2    0.389381  0.347291      0.12500      0.315789  0.466667  0.441176   \n",
       "3    0.066372  0.108374      0.20000      0.210526  0.166667  0.264706   \n",
       "4    0.185841  0.123153      0.20000      0.500000  0.200000  0.264706   \n",
       "..        ...       ...          ...           ...       ...       ...   \n",
       "655  0.420354  0.345269      0.34375      0.539474  0.466667  0.352941   \n",
       "656  0.473451  0.647733      0.18125      0.289474  0.500000  0.529412   \n",
       "657  0.309735  0.324689      0.35000      0.618421  0.333333  0.294118   \n",
       "658  0.269912  0.287469      0.41250      0.500000  0.266667  0.323529   \n",
       "659  0.265487  0.320873      0.37500      0.473684  0.233333  0.323529   \n",
       "\n",
       "     waist_hip_ratio  gender_female  gender_male  \n",
       "0           0.347826            1.0          0.0  \n",
       "1           0.326087            1.0          0.0  \n",
       "2           0.456522            1.0          0.0  \n",
       "3           0.239130            1.0          0.0  \n",
       "4           0.304348            1.0          0.0  \n",
       "..               ...            ...          ...  \n",
       "655         0.579292            0.0          1.0  \n",
       "656         0.401954            1.0          0.0  \n",
       "657         0.452094            0.0          0.0  \n",
       "658         0.357157            0.0          0.0  \n",
       "659         0.261467            1.0          0.0  \n",
       "\n",
       "[660 rows x 15 columns]"
      ]
     },
     "metadata": {},
     "output_type": "display_data"
    }
   ],
   "source": [
    "display(data_normal)"
   ]
  },
  {
   "cell_type": "code",
   "execution_count": 61,
   "metadata": {
    "_cell_guid": "8df88bb5-8003-4696-9efe-63ebf8d609a5",
    "_execution_state": "idle",
    "_uuid": "c384a5240d1c1e9e2a6750e5d218dadaf24d2035"
   },
   "outputs": [],
   "source": [
    "#Importando o modelo RFE -> (Wrapper)\n",
    "from sklearn.feature_selection import RFE\n",
    "\n",
    "# split data train 70 % and test 30, this time with x and not x_1 in order to have all the features %\n",
    "x_train, x_test, y_train, y_test = train_test_split(data_normal, y, test_size=0.3, random_state=42)\n",
    "\n",
    "# Create the RFE object and rank each pixel\n",
    "clf_rf_2 = RandomForestClassifier(random_state=42)      \n",
    "rfe = RFE(estimator=clf_rf_2, n_features_to_select=4, step=1)\n",
    "rfe = rfe.fit(x_train, y_train)"
   ]
  },
  {
   "cell_type": "code",
   "execution_count": 62,
   "metadata": {
    "_uuid": "253eb643648479a61a0a38dba84c0d9e6691cd81"
   },
   "outputs": [
    {
     "name": "stdout",
     "output_type": "stream",
     "text": [
      "Atributos abordagem rfe: Index(['glucose', 'age', 'bmi', 'systolic_bp'], dtype='object')\n"
     ]
    }
   ],
   "source": [
    "print('Atributos abordagem rfe:',x_train.columns[rfe.support_])"
   ]
  },
  {
   "cell_type": "code",
   "execution_count": 63,
   "metadata": {},
   "outputs": [
    {
     "data": {
      "text/plain": [
       "pandas.core.indexes.base.Index"
      ]
     },
     "execution_count": 63,
     "metadata": {},
     "output_type": "execute_result"
    }
   ],
   "source": [
    "type(x_train.columns[rfe.support_])"
   ]
  },
  {
   "cell_type": "code",
   "execution_count": 64,
   "metadata": {
    "_uuid": "a262375d49c78e8a55c573668c0848d6492a8004"
   },
   "outputs": [
    {
     "name": "stdout",
     "output_type": "stream",
     "text": [
      "Recall is:  0.9651162790697675\n",
      "Accuracy is:  0.9393939393939394\n",
      "F1 score is:  0.9325842696629213\n"
     ]
    },
    {
     "data": {
      "image/png": "[encoded data removed]",
      "text/plain": [
       "<Figure size 432x288 with 2 Axes>"
      ]
     },
     "metadata": {},
     "output_type": "display_data"
    }
   ],
   "source": [
    "recall = recall_score(y_test,rfe.predict(x_test))\n",
    "print('Recall is: ', recall)\n",
    "accuracy = accuracy_score(y_test,rfe.predict(x_test))\n",
    "print('Accuracy is: ', accuracy)\n",
    "f1 = f1_score(y_test,rfe.predict(x_test))\n",
    "print('F1 score is: ', f1)\n",
    "cm = confusion_matrix(y_test,rfe.predict(x_test))\n",
    "ax = sns.heatmap(cm,annot=True,fmt=\"d\")"
   ]
  },
  {
   "cell_type": "markdown",
   "metadata": {
    "_cell_guid": "22a4f840-2a37-4047-9804-129e7f68f74a",
    "_execution_state": "idle",
    "_uuid": "42a8c3f2ef0e5978b620eea737e6e234dc79cfe8"
   },
   "source": [
    "## 3) Recursive feature elimination with cross validation and Random Forest classification\n"
   ]
  },
  {
   "cell_type": "code",
   "execution_count": 65,
   "metadata": {
    "_cell_guid": "7a5d4d69-7734-4465-89cc-f46b4af4c548",
    "_execution_state": "idle",
    "_uuid": "0d7803966979745a8bdbdbc44a1927558485640a"
   },
   "outputs": [
    {
     "name": "stdout",
     "output_type": "stream",
     "text": [
      "Optimal number of features : 9\n",
      "Best features : Index(['cholesterol', 'glucose', 'chol_hdl_ratio', 'age', 'weight', 'bmi',\n",
      "       'systolic_bp', 'waist', 'waist_hip_ratio'],\n",
      "      dtype='object')\n"
     ]
    }
   ],
   "source": [
    "from sklearn.feature_selection import RFECV\n",
    "\n",
    "clf_rf_3 = RandomForestClassifier(random_state=42) \n",
    "rfecv = RFECV(estimator=clf_rf_3, step=1, cv=5, scoring='recall')   #5-fold cross-validation\n",
    "rfecv = rfecv.fit(x_train, y_train)\n",
    "\n",
    "print('Optimal number of features :', rfecv.n_features_)\n",
    "print('Best features :', x_train.columns[rfecv.support_])"
   ]
  },
  {
   "cell_type": "code",
   "execution_count": 66,
   "metadata": {},
   "outputs": [
    {
     "data": {
      "text/plain": [
       "pandas.core.indexes.base.Index"
      ]
     },
     "execution_count": 66,
     "metadata": {},
     "output_type": "execute_result"
    }
   ],
   "source": [
    "type(x_train.columns[rfecv.support_])"
   ]
  },
  {
   "cell_type": "code",
   "execution_count": 67,
   "metadata": {
    "_cell_guid": "5b69144b-72e4-4ac3-b8a8-c9ebbf8ffa3b",
    "_execution_state": "idle",
    "_uuid": "f362bfa341032f2bb1bacc1c50675a1916f5c536"
   },
   "outputs": [
    {
     "data": {
      "image/png": "[encoded data removed]",
      "text/plain": [
       "<Figure size 432x288 with 1 Axes>"
      ]
     },
     "metadata": {},
     "output_type": "display_data"
    }
   ],
   "source": [
    "# Plot number of features VS. cross-validation scores\n",
    "import matplotlib.pyplot as plt\n",
    "plt.figure()\n",
    "plt.xlabel(\"Number of features selected\")\n",
    "plt.ylabel(\"Cross validation score of number of selected features\")\n",
    "plt.plot(range(1, len(rfecv.grid_scores_) + 1), rfecv.grid_scores_)\n",
    "plt.show()"
   ]
  },
  {
   "cell_type": "code",
   "execution_count": 68,
   "metadata": {},
   "outputs": [
    {
     "name": "stdout",
     "output_type": "stream",
     "text": [
      "Recall is:  0.9883720930232558\n",
      "Accuracy is:  0.9646464646464646\n",
      "F1 score is:  0.96045197740113\n"
     ]
    },
    {
     "data": {
      "image/png": "[encoded data removed]",
      "text/plain": [
       "<Figure size 432x288 with 2 Axes>"
      ]
     },
     "metadata": {},
     "output_type": "display_data"
    }
   ],
   "source": [
    "recall = recall_score(y_test,rfecv.predict(x_test))\n",
    "print('Recall is: ', recall)\n",
    "accuracy = accuracy_score(y_test,rfecv.predict(x_test))\n",
    "print('Accuracy is: ', accuracy)\n",
    "f1 = f1_score(y_test,rfecv.predict(x_test))\n",
    "print('F1 score is: ', f1)\n",
    "cm = confusion_matrix(y_test,rfecv.predict(x_test))\n",
    "ax = sns.heatmap(cm,annot=True,fmt=\"d\")"
   ]
  },
  {
   "cell_type": "markdown",
   "metadata": {
    "_uuid": "99feee06d753c35f5c64d5f5b26b5ab105ab8161"
   },
   "source": [
    "## 4) Utilizando abordagem Filtro"
   ]
  },
  {
   "cell_type": "code",
   "execution_count": 55,
   "metadata": {},
   "outputs": [],
   "source": [
    "# Import the necessary libraries first\n",
    "from sklearn.feature_selection import SelectKBest\n",
    "from sklearn.feature_selection import chi2"
   ]
  },
  {
   "cell_type": "code",
   "execution_count": 56,
   "metadata": {},
   "outputs": [
    {
     "name": "stdout",
     "output_type": "stream",
     "text": [
      "[ 1  3  4  7  8  9 11 12]\n"
     ]
    },
    {
     "data": {
      "text/plain": [
       "'\\nplt.bar([i for i in range(len(fit.scores_))], fit.scores_)\\nplt.show()\\n'"
      ]
     },
     "execution_count": 56,
     "metadata": {},
     "output_type": "execute_result"
    }
   ],
   "source": [
    "#Feature selection with Mutual Information \n",
    "import numpy\n",
    "import pandas\n",
    "from pandas.plotting import scatter_matrix\n",
    "from sklearn.feature_selection import chi2\n",
    "from sklearn.feature_selection import SelectKBest\n",
    "from sklearn.feature_selection import mutual_info_classif\n",
    "from sklearn.feature_selection import f_classif\n",
    "\n",
    "# split data train 70 % and test 30 %\n",
    "#x_train, x_test, y_train, y_test = train_test_split(x_1, y, test_size=0.3, random_state=42)\n",
    "x_train, x_test, y_train, y_test = train_test_split(data_normal, y, test_size=0.3, random_state=42)\n",
    "\n",
    "#selector = SelectKBest(score_func=chi2, k=3)\n",
    "selector = SelectKBest(score_func=mutual_info_classif, k=8)\n",
    "#selector = SelectKBest(score_func=f_classif, k=42)\n",
    "\n",
    "#selector.fit(data_normal, y)\n",
    "selector.fit(x_train, y_train)\n",
    "\n",
    "# Get columns to keep and create new dataframe with those only\n",
    "cols = selector.get_support(indices=True)\n",
    "print(cols)\n",
    "\n",
    "# print the scores\n",
    "#for i in range(len(selector.scores_)):\n",
    " #   print('Feature %d: %f' % (i, selector.scores_[i]))\n",
    "\n",
    "\n",
    "# plot the scores\n",
    "'''\n",
    "plt.bar([i for i in range(len(fit.scores_))], fit.scores_)\n",
    "plt.show()\n",
    "'''"
   ]
  },
  {
   "cell_type": "code",
   "execution_count": 57,
   "metadata": {},
   "outputs": [],
   "source": [
    "# to remove the rest of the features:\n",
    "\n",
    "x_train = selector.transform(x_train)\n",
    "x_test = selector.transform(x_test)"
   ]
  },
  {
   "cell_type": "code",
   "execution_count": 58,
   "metadata": {},
   "outputs": [
    {
     "name": "stdout",
     "output_type": "stream",
     "text": [
      "Recall is:  1.0\n",
      "Accuracy is:  0.9747474747474747\n",
      "F1 score is:  0.9717514124293786\n"
     ]
    },
    {
     "data": {
      "image/png": "[encoded data removed]",
      "text/plain": [
       "<Figure size 432x288 with 2 Axes>"
      ]
     },
     "metadata": {},
     "output_type": "display_data"
    }
   ],
   "source": [
    "#random forest classifier with n_estimators=10 (default)\n",
    "clf_rf = RandomForestClassifier(random_state=42)      \n",
    "clr_rf = clf_rf.fit(x_train,y_train)\n",
    "\n",
    "recall = recall_score(y_test,clf_rf.predict(x_test))\n",
    "print('Recall is: ', recall)\n",
    "accuracy = accuracy_score(y_test,clf_rf.predict(x_test))\n",
    "print('Accuracy is: ', accuracy)\n",
    "f1 = f1_score(y_test,clf_rf.predict(x_test))\n",
    "print('F1 score is: ', f1)\n",
    "cm = confusion_matrix(y_test,clf_rf.predict(x_test))\n",
    "ax = sns.heatmap(cm,annot=True,fmt=\"d\")"
   ]
  },
  {
   "cell_type": "markdown",
   "metadata": {},
   "source": [
    "# Resultados"
   ]
  },
  {
   "cell_type": "markdown",
   "metadata": {},
   "source": [
    "## Sem seleção dos atributos:\n",
    "Recall is:  1.0 \\\n",
    "Accuracy is:  0.9696969696969697 \\\n",
    "F1 score is:  0.9662921348314606 "
   ]
  },
  {
   "cell_type": "markdown",
   "metadata": {},
   "source": [
    "## Feature Selection with correlation and Random Forest classification:\n",
    "Recall is:  1.0 \\\n",
    "Accuracy is:  0.9696969696969697\\\n",
    "F1 score is:  0.9662921348314606"
   ]
  },
  {
   "cell_type": "markdown",
   "metadata": {},
   "source": [
    "## Recursive feature elimination (RFE) with Random Forest:\n",
    "Recall is:  0.9651162790697675\\\n",
    "Accuracy is:  0.9393939393939394\\\n",
    "F1 score is:  0.9325842696629213"
   ]
  },
  {
   "cell_type": "markdown",
   "metadata": {},
   "source": [
    "## Recursive feature elimination with cross validation and Random Forest classification:\n",
    "Recall is:  0.9883720930232558\\\n",
    "Accuracy is:  0.9646464646464646\\\n",
    "F1 score is:  0.96045197740113"
   ]
  },
  {
   "cell_type": "markdown",
   "metadata": {},
   "source": [
    "## Utilizando abordagem Filtro:\n",
    "Recall is:  1.0 \\\n",
    "Accuracy is:  0.9747474747474747\\\n",
    "F1 score is:  0.9717514124293786"
   ]
  },
  {
   "cell_type": "markdown",
   "metadata": {},
   "source": [
    "## Conclusão:\n",
    "### Analisando os dados, pode-se constatar que os melhores resultados para as métricas, recall, Accuray e F1-Score, foram obtidos pela abordagem filtro, seguido pela execução da base completa e correlação com remoção manual, tendo os mesmos valores. Vale destacar que foram usados os mesmas configurações para todos."
   ]
  }
 ],
 "metadata": {
  "kernelspec": {
   "display_name": "Python 3",
   "language": "python",
   "name": "python3"
  },
  "language_info": {
   "codemirror_mode": {
    "name": "ipython",
    "version": 3
   },
   "file_extension": ".py",
   "mimetype": "text/x-python",
   "name": "python",
   "nbconvert_exporter": "python",
   "pygments_lexer": "ipython3",
   "version": "3.8.8"
  }
 },
 "nbformat": 4,
 "nbformat_minor": 1
}
